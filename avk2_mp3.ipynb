{
 "cells": [
  {
   "cell_type": "markdown",
   "metadata": {},
   "source": [
    "# ECE 498 DS Mini Project 2\n",
    "avk2@illinois.edu \n",
    "\n",
    "zinan2@illinois.edu\n",
    "\n",
    "jg8@illinois.edu"
   ]
  },
  {
   "cell_type": "markdown",
   "metadata": {},
   "source": [
    "## Task 0"
   ]
  },
  {
   "cell_type": "markdown",
   "metadata": {},
   "source": [
    "### Process pcap files into Pandas Dataframe"
   ]
  },
  {
   "cell_type": "code",
   "execution_count": 4,
   "metadata": {},
   "outputs": [],
   "source": [
    "import pandas as pd\n",
    "import pyshark\n",
    "import json"
   ]
  },
  {
   "cell_type": "code",
   "execution_count": 5,
   "metadata": {},
   "outputs": [],
   "source": [
    "dns = pyshark.FileCapture('./data/dns.pcap', keep_packets=True)"
   ]
  },
  {
   "cell_type": "code",
   "execution_count": 6,
   "metadata": {},
   "outputs": [],
   "source": [
    "http = pyshark.FileCapture('./data/http.pcap', keep_packets=True)"
   ]
  },
  {
   "cell_type": "code",
   "execution_count": 7,
   "metadata": {},
   "outputs": [],
   "source": [
    "http2 = pyshark.FileCapture('./data/http2.pcap', keep_packets=True)"
   ]
  },
  {
   "cell_type": "code",
   "execution_count": 9,
   "metadata": {},
   "outputs": [
    {
     "name": "stdout",
     "output_type": "stream",
     "text": [
      "Requirement already satisfied: nest_asyncio in /Users/zinan/.pyenv/versions/3.7.2/lib/python3.7/site-packages (1.3.2)\n",
      "\u001b[33mYou are using pip version 18.1, however version 20.0.2 is available.\n",
      "You should consider upgrading via the 'pip install --upgrade pip' command.\u001b[0m\n"
     ]
    }
   ],
   "source": [
    "!pip install nest_asyncio"
   ]
  },
  {
   "cell_type": "code",
   "execution_count": 10,
   "metadata": {},
   "outputs": [],
   "source": [
    "import nest_asyncio\n",
    "nest_asyncio.apply()"
   ]
  },
  {
   "cell_type": "markdown",
   "metadata": {},
   "source": [
    "##### dns"
   ]
  },
  {
   "cell_type": "code",
   "execution_count": 11,
   "metadata": {},
   "outputs": [],
   "source": [
    "dns_data = []\n",
    "for pkt in dns:\n",
    "    d = {\n",
    "        'sniff_time': pkt.sniff_time,\n",
    "        'length': pkt.length,\n",
    "        'highest_layer': pkt.highest_layer,\n",
    "        'time_stamp': pkt.sniff_timestamp,\n",
    "        'ip': pkt.ip\n",
    "#         'port': pkt[2].port\n",
    "    }\n",
    "    dns_data.append(d)"
   ]
  },
  {
   "cell_type": "code",
   "execution_count": 12,
   "metadata": {},
   "outputs": [],
   "source": [
    "df_dns = pd.DataFrame(dns_data, columns = ['sniff_time', 'length', 'highest_layer', 'time_stamp', 'ip'])\n",
    "df_dns.to_csv(\"dns_df.csv\", index=False)"
   ]
  },
  {
   "cell_type": "markdown",
   "metadata": {},
   "source": [
    "##### http"
   ]
  },
  {
   "cell_type": "code",
   "execution_count": 19,
   "metadata": {},
   "outputs": [],
   "source": [
    "http_data = []\n",
    "\n",
    "for pkt in http:\n",
    "    for i in range(len(pkt.layers)):\n",
    "        if pkt[i].layer_name == 'http':        \n",
    "            try:\n",
    "                d = {\n",
    "                    'sniff_time': pkt.sniff_time,\n",
    "                    'length': pkt.length,\n",
    "                    'highest_layer': pkt.highest_layer,\n",
    "                    'time_stamp': pkt.sniff_timestamp,\n",
    "                    'ip': pkt.ip.dst,\n",
    "                    'port': pkt.tcp.port,\n",
    "                    'content_type': pkt.http.content_type\n",
    "                }\n",
    "            except AttributeError:\n",
    "                pass\n",
    "            \n",
    "    http_data.append(d)"
   ]
  },
  {
   "cell_type": "code",
   "execution_count": 20,
   "metadata": {},
   "outputs": [],
   "source": [
    "df_http = pd.DataFrame(http_data, columns = ['sniff_time', 'length', 'highest_layer', 'time_stamp', 'ip', 'port', 'content_type'])\n",
    "df_http.to_csv(\"http_df.csv\", index=False)"
   ]
  },
  {
   "cell_type": "markdown",
   "metadata": {},
   "source": [
    "##### http2"
   ]
  },
  {
   "cell_type": "code",
   "execution_count": 21,
   "metadata": {},
   "outputs": [],
   "source": [
    "http2_data = []\n",
    "\n",
    "for pkt in http2:\n",
    "    for i in range(len(pkt.layers)):\n",
    "        if pkt[i].layer_name == 'http':        \n",
    "            try:\n",
    "                d = {\n",
    "                    'sniff_time': pkt.sniff_time,\n",
    "                    'length': pkt.length,\n",
    "                    'highest_layer': pkt.highest_layer,\n",
    "                    'time_stamp': pkt.sniff_timestamp,\n",
    "                    'ip': pkt.ip.dst,\n",
    "                    'port': pkt.tcp.port,\n",
    "                    'content_type': pkt.http.content_type\n",
    "                }\n",
    "            except AttributeError:\n",
    "                pass\n",
    "            \n",
    "    http2_data.append(d)"
   ]
  },
  {
   "cell_type": "code",
   "execution_count": 22,
   "metadata": {},
   "outputs": [],
   "source": [
    "df_http2 = pd.DataFrame(http2_data, columns = ['sniff_time', 'length', 'highest_layer', 'time_stamp', 'ip', 'port', 'content_type'])\n",
    "df_http2.to_csv(\"http2_df.csv\", index=False)"
   ]
  },
  {
   "cell_type": "markdown",
   "metadata": {},
   "source": [
    "### Process Operating System Query logs into Pandas Dataframe"
   ]
  },
  {
   "cell_type": "code",
   "execution_count": 24,
   "metadata": {},
   "outputs": [],
   "source": [
    "log_list = []\n",
    "with open(\"./data/osqueryd.results.log\", \"r\") as log_data:\n",
    "    for line in log_data:\n",
    "        log_list.append(eval(line))\n",
    "df_log = pd.json_normalize(log_list)"
   ]
  },
  {
   "cell_type": "code",
   "execution_count": 25,
   "metadata": {},
   "outputs": [],
   "source": [
    "df_log.to_csv(\"oslogs.csv\", index=False)"
   ]
  },
  {
   "cell_type": "markdown",
   "metadata": {},
   "source": [
    "### Which one is attacker"
   ]
  },
  {
   "cell_type": "code",
   "execution_count": 27,
   "metadata": {},
   "outputs": [],
   "source": [
    "http_cmd = 0\n",
    "\n",
    "for pck in http:\n",
    "    try:\n",
    "        content_type = pck.http.Content_type\n",
    "        if '#cmd' in content_type:\n",
    "            http_cmd += 1\n",
    "    \n",
    "    except AttributeError:\n",
    "        pass"
   ]
  },
  {
   "cell_type": "code",
   "execution_count": 28,
   "metadata": {},
   "outputs": [],
   "source": [
    "http2_cmd = 0\n",
    "\n",
    "for pck in http2:\n",
    "    try:\n",
    "        content_type = pck.http.Content_type\n",
    "        if '#cmd' in content_type:\n",
    "            http2_cmd += 1\n",
    "    \n",
    "    except AttributeError:\n",
    "        pass"
   ]
  },
  {
   "cell_type": "code",
   "execution_count": 29,
   "metadata": {},
   "outputs": [
    {
     "name": "stdout",
     "output_type": "stream",
     "text": [
      "#cmd in http content-type is 7, #cmd in http2 content-type is 0\n"
     ]
    }
   ],
   "source": [
    "print(f'#cmd in http content-type is {http_cmd}, #cmd in http2 content-type is {http2_cmd}')"
   ]
  },
  {
   "cell_type": "markdown",
   "metadata": {},
   "source": [
    "The http pcap file represents attacker activity.  It contains HTTP layers that have #cmd strings in their content type.  The legitimate http2 file has no such HTTP layers and no evidence of #cmd strings."
   ]
  },
  {
   "cell_type": "markdown",
   "metadata": {},
   "source": [
    "# Task 1"
   ]
  },
  {
   "cell_type": "code",
   "execution_count": 13,
   "metadata": {},
   "outputs": [
    {
     "data": {
      "text/plain": [
       "'/showcase.action'"
      ]
     },
     "execution_count": 13,
     "metadata": {},
     "output_type": "execute_result"
    }
   ],
   "source": [
    "http[30].http.request_uri"
   ]
  },
  {
   "cell_type": "code",
   "execution_count": null,
   "metadata": {
    "collapsed": true,
    "jupyter": {
     "outputs_hidden": true
    }
   },
   "outputs": [],
   "source": []
  }
 ],
 "metadata": {
  "kernelspec": {
   "display_name": "Python 3",
   "language": "python",
   "name": "python3"
  },
  "language_info": {
   "codemirror_mode": {
    "name": "ipython",
    "version": 3
   },
   "file_extension": ".py",
   "mimetype": "text/x-python",
   "name": "python",
   "nbconvert_exporter": "python",
   "pygments_lexer": "ipython3",
   "version": "3.7.2"
  }
 },
 "nbformat": 4,
 "nbformat_minor": 4
}
