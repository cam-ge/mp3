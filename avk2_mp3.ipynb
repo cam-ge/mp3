{
 "cells": [
  {
   "cell_type": "markdown",
   "metadata": {},
   "source": [
    "# Task 0"
   ]
  },
  {
   "cell_type": "markdown",
   "metadata": {},
   "source": [
    "### Process pcap files into Pandas Dataframe"
   ]
  },
  {
   "cell_type": "code",
   "execution_count": 1,
   "metadata": {
    "collapsed": true
   },
   "outputs": [],
   "source": [
    "import pandas as pd\n",
    "import pyshark\n",
    "import json"
   ]
  },
  {
   "cell_type": "code",
   "execution_count": 2,
   "metadata": {
    "collapsed": true
   },
   "outputs": [],
   "source": [
    "dns = pyshark.FileCapture('dns.pcap', keep_packets=True)"
   ]
  },
  {
   "cell_type": "code",
   "execution_count": 3,
   "metadata": {
    "collapsed": true
   },
   "outputs": [],
   "source": [
    "http = pyshark.FileCapture('http.pcap', keep_packets=True)"
   ]
  },
  {
   "cell_type": "code",
   "execution_count": 4,
   "metadata": {
    "collapsed": true
   },
   "outputs": [],
   "source": [
    "http2 = pyshark.FileCapture('http2.pcap', keep_packets=True)"
   ]
  },
  {
   "cell_type": "code",
   "execution_count": 5,
   "metadata": {
    "collapsed": true
   },
   "outputs": [],
   "source": [
    "try:\n",
    "    i = 0\n",
    "    while True:\n",
    "        dns[i]\n",
    "        i += 1\n",
    "except KeyError:\n",
    "    pass"
   ]
  },
  {
   "cell_type": "code",
   "execution_count": 6,
   "metadata": {
    "collapsed": true
   },
   "outputs": [],
   "source": [
    "try:\n",
    "    i = 0\n",
    "    while True:\n",
    "        http[i]\n",
    "        i += 1\n",
    "except KeyError:\n",
    "    pass"
   ]
  },
  {
   "cell_type": "code",
   "execution_count": 161,
   "metadata": {
    "collapsed": true
   },
   "outputs": [],
   "source": [
    "try:\n",
    "    i = 0\n",
    "    while True:\n",
    "        http2[i]\n",
    "        i += 1\n",
    "except KeyError:\n",
    "    pass"
   ]
  },
  {
   "cell_type": "markdown",
   "metadata": {},
   "source": [
    "##### dns"
   ]
  },
  {
   "cell_type": "code",
   "execution_count": 160,
   "metadata": {},
   "outputs": [],
   "source": [
    "dns_data = []\n",
    "for pkt in dns:\n",
    "    d = {\n",
    "        'sniff_time': pkt.sniff_time,\n",
    "        'length': pkt.length,\n",
    "        'highest_layer': pkt.highest_layer,\n",
    "        'time_stamp': pkt.sniff_timestamp,\n",
    "        'ip': pkt.ip\n",
    "#         'port': pkt[2].port\n",
    "    }\n",
    "    dns_data.append(d)"
   ]
  },
  {
   "cell_type": "code",
   "execution_count": 10,
   "metadata": {
    "collapsed": true
   },
   "outputs": [],
   "source": [
    "df_dns = pd.DataFrame(dns_data, columns = ['sniff_time', 'length', 'highest_layer', 'time_stamp', 'ip'])\n",
    "df_dns.to_csv(\"dns_df.csv\", index=False)"
   ]
  },
  {
   "cell_type": "markdown",
   "metadata": {},
   "source": [
    "##### http"
   ]
  },
  {
   "cell_type": "code",
   "execution_count": 151,
   "metadata": {},
   "outputs": [],
   "source": [
    "http_data = []\n",
    "\n",
    "for pkt in http:\n",
    "    for i in range(len(pkt.layers)):\n",
    "        if pkt[i].layer_name == 'http':        \n",
    "            try:\n",
    "                d = {\n",
    "                    'sniff_time': pkt.sniff_time,\n",
    "                    'length': pkt.length,\n",
    "                    'highest_layer': pkt.highest_layer,\n",
    "                    'time_stamp': pkt.sniff_timestamp,\n",
    "                    'ip': pkt.ip.dst,\n",
    "#                     'port': pkt.port,\n",
    "#                     port is in tcp?\n",
    "                    'content_type': pkt.http.content_type\n",
    "                }\n",
    "            except AttributeError:\n",
    "                pass\n",
    "            \n",
    "    http_data.append(d)"
   ]
  },
  {
   "cell_type": "code",
   "execution_count": 152,
   "metadata": {
    "collapsed": true
   },
   "outputs": [],
   "source": [
    "df_http = pd.DataFrame(http_data, columns = ['sniff_time', 'length', 'highest_layer', 'time_stamp', 'ip', 'content_type'])\n",
    "df_http.to_csv(\"http_df.csv\", index=False)"
   ]
  },
  {
   "cell_type": "markdown",
   "metadata": {},
   "source": [
    "##### http2"
   ]
  },
  {
   "cell_type": "code",
   "execution_count": 162,
   "metadata": {
    "collapsed": true
   },
   "outputs": [],
   "source": [
    "http2_data = []\n",
    "\n",
    "for pkt in http2:\n",
    "    for i in range(len(pkt.layers)):\n",
    "        if pkt[i].layer_name == 'http':        \n",
    "            try:\n",
    "                d = {\n",
    "                    'sniff_time': pkt.sniff_time,\n",
    "                    'length': pkt.length,\n",
    "                    'highest_layer': pkt.highest_layer,\n",
    "                    'time_stamp': pkt.sniff_timestamp,\n",
    "                    'ip': pkt.ip.dst,\n",
    "#                     'port': pkt.port,\n",
    "#                     port is in tcp?\n",
    "                    'content_type': pkt.http.content_type\n",
    "                }\n",
    "            except AttributeError:\n",
    "                pass\n",
    "            \n",
    "    http2_data.append(d)"
   ]
  },
  {
   "cell_type": "code",
   "execution_count": 163,
   "metadata": {
    "collapsed": true
   },
   "outputs": [],
   "source": [
    "df_http2 = pd.DataFrame(http2_data, columns = ['sniff_time', 'length', 'highest_layer', 'time_stamp', 'ip', 'content_type'])\n",
    "df_http2.to_csv(\"http2_df.csv\", index=False)"
   ]
  },
  {
   "cell_type": "markdown",
   "metadata": {},
   "source": [
    "### Process Operating System Query logs into Pandas Dataframe"
   ]
  },
  {
   "cell_type": "code",
   "execution_count": 13,
   "metadata": {
    "collapsed": true
   },
   "outputs": [],
   "source": [
    "log_list = []\n",
    "with open(\"osqueryd.results.log\", \"r\") as log_data:\n",
    "    for line in log_data:\n",
    "        log_list.append(eval(line))\n",
    "df_log = pd.DataFrame(log_list)"
   ]
  },
  {
   "cell_type": "code",
   "execution_count": 77,
   "metadata": {
    "collapsed": true
   },
   "outputs": [],
   "source": [
    "df_log.to_csv(\"oslogs.csv\", index=False)"
   ]
  },
  {
   "cell_type": "markdown",
   "metadata": {},
   "source": [
    "The http pcap file represents attacker activity.  It contains HTTP layers that have #cmd strings in their content type.  The legitimate http2 file has no such HTTP layers and no evidence of #cmd strings."
   ]
  },
  {
   "cell_type": "markdown",
   "metadata": {},
   "source": [
    "# Task 1"
   ]
  },
  {
   "cell_type": "code",
   "execution_count": null,
   "metadata": {
    "collapsed": true
   },
   "outputs": [],
   "source": []
  }
 ],
 "metadata": {
  "kernelspec": {
   "display_name": "Python 3",
   "language": "python",
   "name": "python3"
  },
  "language_info": {
   "codemirror_mode": {
    "name": "ipython",
    "version": 3
   },
   "file_extension": ".py",
   "mimetype": "text/x-python",
   "name": "python",
   "nbconvert_exporter": "python",
   "pygments_lexer": "ipython3",
   "version": "3.7.0"
  }
 },
 "nbformat": 4,
 "nbformat_minor": 4
}
